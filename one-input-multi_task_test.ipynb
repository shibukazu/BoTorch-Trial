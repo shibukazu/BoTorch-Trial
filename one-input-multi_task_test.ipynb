{
 "cells": [
  {
   "cell_type": "code",
   "execution_count": 50,
   "metadata": {},
   "outputs": [],
   "source": [
    "import torch\n",
    "from botorch.models import MultiTaskGP\n",
    "from botorch.fit import fit_gpytorch_model\n",
    "from botorch.utils import standardize\n",
    "from gpytorch.mlls import ExactMarginalLogLikelihood\n",
    "from botorch.acquisition.monte_carlo import qUpperConfidenceBound\n",
    "from botorch.acquisition.objective import GenericMCObjective\n",
    "import numpy as np\n",
    "import time\n",
    "import datetime\n",
    "from botorch.optim import optimize_acqf\n",
    "from torch.utils.tensorboard import SummaryWriter\n",
    "import os"
   ]
  },
  {
   "cell_type": "code",
   "execution_count": 2,
   "metadata": {},
   "outputs": [],
   "source": [
    "tkwargs = {\n",
    "    \"dtype\": torch.double,\n",
    "    \"device\": torch.device(\"cuda:0\" if torch.cuda.is_available() else \"cpu\"),\n",
    "}"
   ]
  },
  {
   "cell_type": "markdown",
   "metadata": {},
   "source": [
    "### 注意\n",
    "- metricsの計算およびobjectiveも最小化基準で設計すること"
   ]
  },
  {
   "cell_type": "code",
   "execution_count": 66,
   "metadata": {},
   "outputs": [],
   "source": [
    "import abc\n",
    "\n",
    "class IMetric(abc.ABC):\n",
    "    def __init__(self):\n",
    "        self.optimal_metric = None\n",
    "\n",
    "    def parameter_parser(self, x):\n",
    "        # x: Tensor[D]\n",
    "        # ここでは簡単のためにパラメーターベクトルからパラメーターを取り出す\n",
    "        gamma = x[0]\n",
    "        beta = x[1]\n",
    "        shadow = x[2]\n",
    "        return gamma, beta, shadow\n",
    "    def get_image_from_parameter(self, x):\n",
    "        # x: Tensor[D]\n",
    "        # ここは実際にはopenCV or simulatorによってパラメーターから画像を生成する\n",
    "        gamma, beta, shadow = self.parameter_parser(x)\n",
    "        \n",
    "        image = gamma + beta + shadow\n",
    "\n",
    "        return image\n",
    "    @abc.abstractmethod\n",
    "    def calc(self, x):\n",
    "        # 必ずself.__update_optimal_metricを呼び出すこと\n",
    "        raise NotImplementedError()\n",
    "    \n",
    "    @abc.abstractmethod\n",
    "    def update_optimal_metric(self, y):\n",
    "        # yを条件判定した上で最適値を更新する\n",
    "        raise NotImplementedError()\n",
    "\n",
    "class Metric0(IMetric):\n",
    "    \n",
    "    def calc(self, x):\n",
    "        image = self.get_image_from_parameter(x)\n",
    "        y = 3 * image**3 + 2 * image**2 + image + 1\n",
    "        self.update_optimal_metric(y)\n",
    "        return y\n",
    "\n",
    "    def update_optimal_metric(self, y):\n",
    "        # yを条件判定した上で最適値を更新する\n",
    "        if self.optimal_metric is None:\n",
    "            self.optimal_metric = y\n",
    "        elif self.optimal_metric > y:\n",
    "            self.optimal_metric = y\n",
    "\n",
    "class Metric1(IMetric):\n",
    "    \n",
    "    def calc(self, x):\n",
    "        image = self.get_image_from_parameter(x)\n",
    "        y = - 2 * image**2 + image**2 + image + 1\n",
    "        self.update_optimal_metric(y)\n",
    "        return y\n",
    "    \n",
    "    def update_optimal_metric(self, y):\n",
    "        # yを条件判定した上で最適値を更新する\n",
    "        if self.optimal_metric is None:\n",
    "            self.optimal_metric = y\n",
    "        elif self.optimal_metric > y:\n",
    "            self.optimal_metric = y\n",
    "\n",
    "    \n",
    "    "
   ]
  },
  {
   "cell_type": "code",
   "execution_count": 67,
   "metadata": {},
   "outputs": [],
   "source": [
    "class Metrics():\n",
    "    def __init__(self):\n",
    "        self.metrics = {\n",
    "            \"metric0\": Metric0(),\n",
    "            \"metric1\": Metric1(),\n",
    "        }\n",
    "        self.metric_idxs = {\n",
    "            0: self.metrics[\"metric0\"],\n",
    "            1: self.metrics[\"metric1\"],\n",
    "        }\n",
    "        self.n_metrics = len(self.metrics)\n",
    "        self.objective = GenericMCObjective(self.aggregator)\n",
    "\n",
    "    def aggregator(self, samples, X=None):\n",
    "        # multi-taskなので回帰モデルは複数のyを出力する\n",
    "        # 獲得関数ではそれを集約し,スカラにする必要がある\n",
    "        # 今回は全メトリクスの和を考える\n",
    "        # samples: Tensor[sample_shape?, batch, 取り出す次のサンプル数, タスク数]\n",
    "        \n",
    "        return samples.sum(dim=-1)\n",
    "    \n",
    "    def get_optimal_metrics(self):\n",
    "        optimal_metrics = { metric_name: metric.optimal_metric for metric_name, metric in self.metric_idxs.items()}\n",
    "    \n",
    "    def __call__(self, X):\n",
    "        # X: Tensor[N, D+1]\n",
    "        # return: Tensor[N, 1]\n",
    "        return torch.stack([self.metric_idxs[x[-1].item()].calc(x[:-1]) for x in X]).unsqueeze(dim=1)\n",
    "    \n",
    "metrics = Metrics()"
   ]
  },
  {
   "cell_type": "code",
   "execution_count": 68,
   "metadata": {},
   "outputs": [],
   "source": [
    "class Parameter():\n",
    "    def __init__(self, bound, tkwargs):\n",
    "        # bounds: 2d-list\n",
    "        self.tkwargs = tkwargs\n",
    "        self.bound = bound\n",
    "\n",
    "    def random_sample(self, num):\n",
    "        return (self.bound[1][0] - self.bound[0][0]) * torch.rand(num, 1, **self.tkwargs) + self.bound[0][0]\n",
    "    \n",
    "    def get_bound(self):\n",
    "        return self.bound\n",
    "\n",
    "\n",
    "\n",
    "class Parameters:\n",
    "    def __init__(self, tkwargs):\n",
    "        self.tkwargs = tkwargs\n",
    "        self.param_idx = {\n",
    "            \"param0\": 0,\n",
    "            \"param1\": 1,\n",
    "            \"param2\": 2,\n",
    "        }\n",
    "        self.params = {\n",
    "            \"param0\": Parameter([[-20], [20]], tkwargs),\n",
    "            \"param1\": Parameter([[-5], [5]], tkwargs),\n",
    "            \"param2\": Parameter([[-5], [40]], tkwargs),\n",
    "        }\n",
    "        self.n_params = len(self.params)\n",
    "        self.bounds = torch.tensor(np.concatenate([param.bound for param in self.params.values()], axis=1), **self.tkwargs)\n",
    "        self.n_params = len(self.params)\n",
    "\n",
    "    def random_sample(self, q):\n",
    "        return torch.stack([param.random_sample(q) for param in self.params.values()], dim=1).squeeze(dim=2)\n",
    "        \n",
    "parameters = Parameters(tkwargs)"
   ]
  },
  {
   "cell_type": "code",
   "execution_count": null,
   "metadata": {},
   "outputs": [],
   "source": []
  },
  {
   "cell_type": "code",
   "execution_count": 69,
   "metadata": {},
   "outputs": [],
   "source": [
    "# 学習ハイパラ\n",
    "n_iter = 100\n",
    "n_sample_per_iter = 2"
   ]
  },
  {
   "cell_type": "code",
   "execution_count": 71,
   "metadata": {},
   "outputs": [
    {
     "name": "stdout",
     "output_type": "stream",
     "text": [
      "initial params: \n",
      "tensor([[ 2.8715,  0.1486, 15.9543,  0.0000],\n",
      "        [ 3.0004,  4.7735, 31.0274,  0.0000],\n",
      "        [ 2.8715,  0.1486, 15.9543,  1.0000],\n",
      "        [ 3.0004,  4.7735, 31.0274,  1.0000]], device='cuda:0',\n",
      "       dtype=torch.float64)\n"
     ]
    },
    {
     "name": "stderr",
     "output_type": "stream",
     "text": [
      "/home/shibutani/.local/share/virtualenvs/BoTorch_Trial-UdUIGeOu/lib/python3.7/site-packages/botorch/fit.py:148: OptimizeWarning: Unknown solver options: lr\n",
      "  warnings.warn(w.message, w.category)\n",
      "/home/shibutani/.local/share/virtualenvs/BoTorch_Trial-UdUIGeOu/lib/python3.7/site-packages/botorch/fit.py:148: OptimizeWarning: Unknown solver options: lr\n",
      "  warnings.warn(w.message, w.category)\n"
     ]
    },
    {
     "name": "stdout",
     "output_type": "stream",
     "text": [
      "gp_time: 6.022202253341675\n",
      "rand_time: 0.0008833408355712891\n"
     ]
    },
    {
     "name": "stderr",
     "output_type": "stream",
     "text": [
      "/home/shibutani/.local/share/virtualenvs/BoTorch_Trial-UdUIGeOu/lib/python3.7/site-packages/botorch/fit.py:148: OptimizeWarning: Unknown solver options: lr\n",
      "  warnings.warn(w.message, w.category)\n"
     ]
    },
    {
     "name": "stdout",
     "output_type": "stream",
     "text": [
      "gp_time: 3.470698118209839\n",
      "rand_time: 0.0010285377502441406\n"
     ]
    },
    {
     "name": "stderr",
     "output_type": "stream",
     "text": [
      "/home/shibutani/.local/share/virtualenvs/BoTorch_Trial-UdUIGeOu/lib/python3.7/site-packages/botorch/fit.py:148: OptimizeWarning: Unknown solver options: lr\n",
      "  warnings.warn(w.message, w.category)\n"
     ]
    },
    {
     "name": "stdout",
     "output_type": "stream",
     "text": [
      "gp_time: 3.86625599861145\n",
      "rand_time: 0.0009217262268066406\n"
     ]
    },
    {
     "name": "stderr",
     "output_type": "stream",
     "text": [
      "/home/shibutani/.local/share/virtualenvs/BoTorch_Trial-UdUIGeOu/lib/python3.7/site-packages/botorch/fit.py:148: OptimizeWarning: Unknown solver options: lr\n",
      "  warnings.warn(w.message, w.category)\n"
     ]
    },
    {
     "name": "stdout",
     "output_type": "stream",
     "text": [
      "gp_time: 3.873175859451294\n",
      "rand_time: 0.0009446144104003906\n"
     ]
    },
    {
     "name": "stderr",
     "output_type": "stream",
     "text": [
      "/home/shibutani/.local/share/virtualenvs/BoTorch_Trial-UdUIGeOu/lib/python3.7/site-packages/botorch/fit.py:148: OptimizeWarning: Unknown solver options: lr\n",
      "  warnings.warn(w.message, w.category)\n"
     ]
    },
    {
     "name": "stdout",
     "output_type": "stream",
     "text": [
      "gp_time: 1.685056209564209\n",
      "rand_time: 0.0009958744049072266\n"
     ]
    },
    {
     "name": "stderr",
     "output_type": "stream",
     "text": [
      "/home/shibutani/.local/share/virtualenvs/BoTorch_Trial-UdUIGeOu/lib/python3.7/site-packages/botorch/fit.py:148: OptimizeWarning: Unknown solver options: lr\n",
      "  warnings.warn(w.message, w.category)\n"
     ]
    },
    {
     "name": "stdout",
     "output_type": "stream",
     "text": [
      "gp_time: 4.04680061340332\n",
      "rand_time: 0.0009083747863769531\n"
     ]
    },
    {
     "name": "stderr",
     "output_type": "stream",
     "text": [
      "/home/shibutani/.local/share/virtualenvs/BoTorch_Trial-UdUIGeOu/lib/python3.7/site-packages/botorch/fit.py:148: OptimizeWarning: Unknown solver options: lr\n",
      "  warnings.warn(w.message, w.category)\n"
     ]
    },
    {
     "name": "stdout",
     "output_type": "stream",
     "text": [
      "gp_time: 5.571903467178345\n",
      "rand_time: 0.0010149478912353516\n"
     ]
    },
    {
     "name": "stderr",
     "output_type": "stream",
     "text": [
      "/home/shibutani/.local/share/virtualenvs/BoTorch_Trial-UdUIGeOu/lib/python3.7/site-packages/botorch/fit.py:148: OptimizeWarning: Unknown solver options: lr\n",
      "  warnings.warn(w.message, w.category)\n"
     ]
    },
    {
     "name": "stdout",
     "output_type": "stream",
     "text": [
      "gp_time: 8.189114332199097\n",
      "rand_time: 0.0009126663208007812\n"
     ]
    },
    {
     "name": "stderr",
     "output_type": "stream",
     "text": [
      "/home/shibutani/.local/share/virtualenvs/BoTorch_Trial-UdUIGeOu/lib/python3.7/site-packages/botorch/fit.py:148: OptimizeWarning: Unknown solver options: lr\n",
      "  warnings.warn(w.message, w.category)\n"
     ]
    },
    {
     "name": "stdout",
     "output_type": "stream",
     "text": [
      "gp_time: 5.978463172912598\n",
      "rand_time: 0.0008692741394042969\n"
     ]
    },
    {
     "name": "stderr",
     "output_type": "stream",
     "text": [
      "/home/shibutani/.local/share/virtualenvs/BoTorch_Trial-UdUIGeOu/lib/python3.7/site-packages/botorch/fit.py:148: OptimizeWarning: Unknown solver options: lr\n",
      "  warnings.warn(w.message, w.category)\n"
     ]
    },
    {
     "name": "stdout",
     "output_type": "stream",
     "text": [
      "gp_time: 3.666095495223999\n",
      "rand_time: 0.0008902549743652344\n"
     ]
    },
    {
     "name": "stderr",
     "output_type": "stream",
     "text": [
      "/home/shibutani/.local/share/virtualenvs/BoTorch_Trial-UdUIGeOu/lib/python3.7/site-packages/botorch/fit.py:148: OptimizeWarning: Unknown solver options: lr\n",
      "  warnings.warn(w.message, w.category)\n"
     ]
    },
    {
     "name": "stdout",
     "output_type": "stream",
     "text": [
      "gp_time: 7.484594345092773\n",
      "rand_time: 0.0009024143218994141\n"
     ]
    },
    {
     "name": "stderr",
     "output_type": "stream",
     "text": [
      "/home/shibutani/.local/share/virtualenvs/BoTorch_Trial-UdUIGeOu/lib/python3.7/site-packages/botorch/fit.py:148: OptimizeWarning: Unknown solver options: lr\n",
      "  warnings.warn(w.message, w.category)\n"
     ]
    },
    {
     "name": "stdout",
     "output_type": "stream",
     "text": [
      "gp_time: 7.105463743209839\n",
      "rand_time: 0.0009524822235107422\n"
     ]
    },
    {
     "name": "stderr",
     "output_type": "stream",
     "text": [
      "/home/shibutani/.local/share/virtualenvs/BoTorch_Trial-UdUIGeOu/lib/python3.7/site-packages/botorch/fit.py:148: OptimizeWarning: Unknown solver options: lr\n",
      "  warnings.warn(w.message, w.category)\n"
     ]
    },
    {
     "name": "stdout",
     "output_type": "stream",
     "text": [
      "gp_time: 6.184694528579712\n",
      "rand_time: 0.0010266304016113281\n"
     ]
    },
    {
     "name": "stderr",
     "output_type": "stream",
     "text": [
      "/home/shibutani/.local/share/virtualenvs/BoTorch_Trial-UdUIGeOu/lib/python3.7/site-packages/botorch/fit.py:148: OptimizeWarning: Unknown solver options: lr\n",
      "  warnings.warn(w.message, w.category)\n"
     ]
    },
    {
     "name": "stdout",
     "output_type": "stream",
     "text": [
      "gp_time: 6.660703897476196\n",
      "rand_time: 0.0010607242584228516\n"
     ]
    },
    {
     "name": "stderr",
     "output_type": "stream",
     "text": [
      "/home/shibutani/.local/share/virtualenvs/BoTorch_Trial-UdUIGeOu/lib/python3.7/site-packages/botorch/fit.py:148: OptimizeWarning: Unknown solver options: lr\n",
      "  warnings.warn(w.message, w.category)\n"
     ]
    },
    {
     "name": "stdout",
     "output_type": "stream",
     "text": [
      "gp_time: 6.063668727874756\n",
      "rand_time: 0.001268625259399414\n"
     ]
    },
    {
     "name": "stderr",
     "output_type": "stream",
     "text": [
      "/home/shibutani/.local/share/virtualenvs/BoTorch_Trial-UdUIGeOu/lib/python3.7/site-packages/botorch/fit.py:148: OptimizeWarning: Unknown solver options: lr\n",
      "  warnings.warn(w.message, w.category)\n"
     ]
    },
    {
     "name": "stdout",
     "output_type": "stream",
     "text": [
      "gp_time: 2.8437697887420654\n",
      "rand_time: 0.0009076595306396484\n"
     ]
    },
    {
     "name": "stderr",
     "output_type": "stream",
     "text": [
      "/home/shibutani/.local/share/virtualenvs/BoTorch_Trial-UdUIGeOu/lib/python3.7/site-packages/botorch/fit.py:148: OptimizeWarning: Unknown solver options: lr\n",
      "  warnings.warn(w.message, w.category)\n"
     ]
    },
    {
     "name": "stdout",
     "output_type": "stream",
     "text": [
      "gp_time: 2.765984058380127\n",
      "rand_time: 0.0009024143218994141\n"
     ]
    },
    {
     "name": "stderr",
     "output_type": "stream",
     "text": [
      "/home/shibutani/.local/share/virtualenvs/BoTorch_Trial-UdUIGeOu/lib/python3.7/site-packages/botorch/fit.py:148: OptimizeWarning: Unknown solver options: lr\n",
      "  warnings.warn(w.message, w.category)\n"
     ]
    },
    {
     "name": "stdout",
     "output_type": "stream",
     "text": [
      "gp_time: 2.3102657794952393\n",
      "rand_time: 0.0010495185852050781\n"
     ]
    },
    {
     "name": "stderr",
     "output_type": "stream",
     "text": [
      "/home/shibutani/.local/share/virtualenvs/BoTorch_Trial-UdUIGeOu/lib/python3.7/site-packages/botorch/fit.py:148: OptimizeWarning: Unknown solver options: lr\n",
      "  warnings.warn(w.message, w.category)\n"
     ]
    },
    {
     "name": "stdout",
     "output_type": "stream",
     "text": [
      "gp_time: 3.392512798309326\n",
      "rand_time: 0.0012392997741699219\n"
     ]
    },
    {
     "name": "stderr",
     "output_type": "stream",
     "text": [
      "/home/shibutani/.local/share/virtualenvs/BoTorch_Trial-UdUIGeOu/lib/python3.7/site-packages/botorch/fit.py:148: OptimizeWarning: Unknown solver options: lr\n",
      "  warnings.warn(w.message, w.category)\n"
     ]
    },
    {
     "name": "stdout",
     "output_type": "stream",
     "text": [
      "gp_time: 3.0049386024475098\n",
      "rand_time: 0.0010111331939697266\n"
     ]
    },
    {
     "name": "stderr",
     "output_type": "stream",
     "text": [
      "/home/shibutani/.local/share/virtualenvs/BoTorch_Trial-UdUIGeOu/lib/python3.7/site-packages/botorch/fit.py:148: OptimizeWarning: Unknown solver options: lr\n",
      "  warnings.warn(w.message, w.category)\n"
     ]
    },
    {
     "name": "stdout",
     "output_type": "stream",
     "text": [
      "gp_time: 3.578263998031616\n",
      "rand_time: 0.0009446144104003906\n"
     ]
    },
    {
     "name": "stderr",
     "output_type": "stream",
     "text": [
      "/home/shibutani/.local/share/virtualenvs/BoTorch_Trial-UdUIGeOu/lib/python3.7/site-packages/botorch/fit.py:148: OptimizeWarning: Unknown solver options: lr\n",
      "  warnings.warn(w.message, w.category)\n"
     ]
    },
    {
     "name": "stdout",
     "output_type": "stream",
     "text": [
      "gp_time: 3.8961870670318604\n",
      "rand_time: 0.0008995532989501953\n"
     ]
    },
    {
     "name": "stderr",
     "output_type": "stream",
     "text": [
      "/home/shibutani/.local/share/virtualenvs/BoTorch_Trial-UdUIGeOu/lib/python3.7/site-packages/botorch/fit.py:148: OptimizeWarning: Unknown solver options: lr\n",
      "  warnings.warn(w.message, w.category)\n"
     ]
    },
    {
     "name": "stdout",
     "output_type": "stream",
     "text": [
      "gp_time: 2.6765811443328857\n",
      "rand_time: 0.0009911060333251953\n"
     ]
    },
    {
     "name": "stderr",
     "output_type": "stream",
     "text": [
      "/home/shibutani/.local/share/virtualenvs/BoTorch_Trial-UdUIGeOu/lib/python3.7/site-packages/botorch/fit.py:148: OptimizeWarning: Unknown solver options: lr\n",
      "  warnings.warn(w.message, w.category)\n"
     ]
    },
    {
     "name": "stdout",
     "output_type": "stream",
     "text": [
      "gp_time: 4.414525747299194\n",
      "rand_time: 0.0010094642639160156\n"
     ]
    },
    {
     "name": "stderr",
     "output_type": "stream",
     "text": [
      "/home/shibutani/.local/share/virtualenvs/BoTorch_Trial-UdUIGeOu/lib/python3.7/site-packages/botorch/fit.py:148: OptimizeWarning: Unknown solver options: lr\n",
      "  warnings.warn(w.message, w.category)\n"
     ]
    },
    {
     "name": "stdout",
     "output_type": "stream",
     "text": [
      "gp_time: 4.280689239501953\n",
      "rand_time: 0.0008509159088134766\n"
     ]
    },
    {
     "name": "stderr",
     "output_type": "stream",
     "text": [
      "/home/shibutani/.local/share/virtualenvs/BoTorch_Trial-UdUIGeOu/lib/python3.7/site-packages/botorch/fit.py:148: OptimizeWarning: Unknown solver options: lr\n",
      "  warnings.warn(w.message, w.category)\n"
     ]
    },
    {
     "name": "stdout",
     "output_type": "stream",
     "text": [
      "gp_time: 3.747098922729492\n",
      "rand_time: 0.000990152359008789\n"
     ]
    },
    {
     "name": "stderr",
     "output_type": "stream",
     "text": [
      "/home/shibutani/.local/share/virtualenvs/BoTorch_Trial-UdUIGeOu/lib/python3.7/site-packages/botorch/fit.py:148: OptimizeWarning: Unknown solver options: lr\n",
      "  warnings.warn(w.message, w.category)\n"
     ]
    },
    {
     "name": "stdout",
     "output_type": "stream",
     "text": [
      "gp_time: 4.398438453674316\n",
      "rand_time: 0.0008761882781982422\n"
     ]
    },
    {
     "name": "stderr",
     "output_type": "stream",
     "text": [
      "/home/shibutani/.local/share/virtualenvs/BoTorch_Trial-UdUIGeOu/lib/python3.7/site-packages/botorch/fit.py:148: OptimizeWarning: Unknown solver options: lr\n",
      "  warnings.warn(w.message, w.category)\n",
      "/home/shibutani/.local/share/virtualenvs/BoTorch_Trial-UdUIGeOu/lib/python3.7/site-packages/botorch/optim/optimize.py:287: RuntimeWarning: Optimization failed in `gen_candidates_scipy` with the following warning(s):\n",
      "[OptimizationWarning('Optimization failed within `scipy.optimize.minimize` with status 2.')]\n",
      "Trying again with a new set of initial conditions.\n",
      "  warnings.warn(first_warn_msg, RuntimeWarning)\n"
     ]
    },
    {
     "name": "stdout",
     "output_type": "stream",
     "text": [
      "gp_time: 5.6330835819244385\n",
      "rand_time: 0.0010120868682861328\n"
     ]
    },
    {
     "name": "stderr",
     "output_type": "stream",
     "text": [
      "/home/shibutani/.local/share/virtualenvs/BoTorch_Trial-UdUIGeOu/lib/python3.7/site-packages/botorch/fit.py:148: OptimizeWarning: Unknown solver options: lr\n",
      "  warnings.warn(w.message, w.category)\n"
     ]
    },
    {
     "name": "stdout",
     "output_type": "stream",
     "text": [
      "gp_time: 2.113577127456665\n",
      "rand_time: 0.0009527206420898438\n"
     ]
    },
    {
     "name": "stderr",
     "output_type": "stream",
     "text": [
      "/home/shibutani/.local/share/virtualenvs/BoTorch_Trial-UdUIGeOu/lib/python3.7/site-packages/botorch/fit.py:148: OptimizeWarning: Unknown solver options: lr\n",
      "  warnings.warn(w.message, w.category)\n"
     ]
    },
    {
     "name": "stdout",
     "output_type": "stream",
     "text": [
      "gp_time: 2.2476706504821777\n",
      "rand_time: 0.0009047985076904297\n"
     ]
    },
    {
     "name": "stderr",
     "output_type": "stream",
     "text": [
      "/home/shibutani/.local/share/virtualenvs/BoTorch_Trial-UdUIGeOu/lib/python3.7/site-packages/botorch/fit.py:148: OptimizeWarning: Unknown solver options: lr\n",
      "  warnings.warn(w.message, w.category)\n"
     ]
    },
    {
     "name": "stdout",
     "output_type": "stream",
     "text": [
      "gp_time: 2.554039716720581\n",
      "rand_time: 0.0009026527404785156\n"
     ]
    },
    {
     "name": "stderr",
     "output_type": "stream",
     "text": [
      "/home/shibutani/.local/share/virtualenvs/BoTorch_Trial-UdUIGeOu/lib/python3.7/site-packages/botorch/fit.py:148: OptimizeWarning: Unknown solver options: lr\n",
      "  warnings.warn(w.message, w.category)\n"
     ]
    },
    {
     "name": "stdout",
     "output_type": "stream",
     "text": [
      "gp_time: 4.7014546394348145\n",
      "rand_time: 0.000934600830078125\n"
     ]
    },
    {
     "name": "stderr",
     "output_type": "stream",
     "text": [
      "/home/shibutani/.local/share/virtualenvs/BoTorch_Trial-UdUIGeOu/lib/python3.7/site-packages/botorch/fit.py:148: OptimizeWarning: Unknown solver options: lr\n",
      "  warnings.warn(w.message, w.category)\n"
     ]
    },
    {
     "name": "stdout",
     "output_type": "stream",
     "text": [
      "gp_time: 1.2027416229248047\n",
      "rand_time: 0.0009567737579345703\n"
     ]
    },
    {
     "name": "stderr",
     "output_type": "stream",
     "text": [
      "/home/shibutani/.local/share/virtualenvs/BoTorch_Trial-UdUIGeOu/lib/python3.7/site-packages/botorch/fit.py:148: OptimizeWarning: Unknown solver options: lr\n",
      "  warnings.warn(w.message, w.category)\n"
     ]
    },
    {
     "name": "stdout",
     "output_type": "stream",
     "text": [
      "gp_time: 2.7998030185699463\n",
      "rand_time: 0.0012333393096923828\n"
     ]
    },
    {
     "name": "stderr",
     "output_type": "stream",
     "text": [
      "/home/shibutani/.local/share/virtualenvs/BoTorch_Trial-UdUIGeOu/lib/python3.7/site-packages/botorch/fit.py:148: OptimizeWarning: Unknown solver options: lr\n",
      "  warnings.warn(w.message, w.category)\n"
     ]
    },
    {
     "name": "stdout",
     "output_type": "stream",
     "text": [
      "gp_time: 2.4035983085632324\n",
      "rand_time: 0.0012650489807128906\n"
     ]
    },
    {
     "name": "stderr",
     "output_type": "stream",
     "text": [
      "/home/shibutani/.local/share/virtualenvs/BoTorch_Trial-UdUIGeOu/lib/python3.7/site-packages/botorch/fit.py:148: OptimizeWarning: Unknown solver options: lr\n",
      "  warnings.warn(w.message, w.category)\n"
     ]
    },
    {
     "name": "stdout",
     "output_type": "stream",
     "text": [
      "gp_time: 2.235342264175415\n",
      "rand_time: 0.0009334087371826172\n"
     ]
    },
    {
     "name": "stderr",
     "output_type": "stream",
     "text": [
      "/home/shibutani/.local/share/virtualenvs/BoTorch_Trial-UdUIGeOu/lib/python3.7/site-packages/botorch/fit.py:148: OptimizeWarning: Unknown solver options: lr\n",
      "  warnings.warn(w.message, w.category)\n"
     ]
    },
    {
     "name": "stdout",
     "output_type": "stream",
     "text": [
      "gp_time: 1.4365370273590088\n",
      "rand_time: 0.0009047985076904297\n"
     ]
    },
    {
     "name": "stderr",
     "output_type": "stream",
     "text": [
      "/home/shibutani/.local/share/virtualenvs/BoTorch_Trial-UdUIGeOu/lib/python3.7/site-packages/botorch/fit.py:148: OptimizeWarning: Unknown solver options: lr\n",
      "  warnings.warn(w.message, w.category)\n"
     ]
    },
    {
     "name": "stdout",
     "output_type": "stream",
     "text": [
      "gp_time: 2.526395320892334\n",
      "rand_time: 0.0009222030639648438\n"
     ]
    },
    {
     "name": "stderr",
     "output_type": "stream",
     "text": [
      "/home/shibutani/.local/share/virtualenvs/BoTorch_Trial-UdUIGeOu/lib/python3.7/site-packages/botorch/fit.py:148: OptimizeWarning: Unknown solver options: lr\n",
      "  warnings.warn(w.message, w.category)\n",
      "/home/shibutani/.local/share/virtualenvs/BoTorch_Trial-UdUIGeOu/lib/python3.7/site-packages/botorch/fit.py:148: OptimizeWarning: Unknown solver options: lr\n",
      "  warnings.warn(w.message, w.category)\n",
      "/home/shibutani/.local/share/virtualenvs/BoTorch_Trial-UdUIGeOu/lib/python3.7/site-packages/botorch/fit.py:148: OptimizeWarning: Unknown solver options: lr\n",
      "  warnings.warn(w.message, w.category)\n",
      "/home/shibutani/.local/share/virtualenvs/BoTorch_Trial-UdUIGeOu/lib/python3.7/site-packages/botorch/fit.py:148: OptimizeWarning: Unknown solver options: lr\n",
      "  warnings.warn(w.message, w.category)\n"
     ]
    },
    {
     "name": "stdout",
     "output_type": "stream",
     "text": [
      "gp_time: 8.955311059951782\n",
      "rand_time: 0.0009121894836425781\n"
     ]
    },
    {
     "name": "stderr",
     "output_type": "stream",
     "text": [
      "/home/shibutani/.local/share/virtualenvs/BoTorch_Trial-UdUIGeOu/lib/python3.7/site-packages/botorch/fit.py:148: OptimizeWarning: Unknown solver options: lr\n",
      "  warnings.warn(w.message, w.category)\n"
     ]
    },
    {
     "name": "stdout",
     "output_type": "stream",
     "text": [
      "gp_time: 1.5550758838653564\n",
      "rand_time: 0.0009000301361083984\n"
     ]
    },
    {
     "name": "stderr",
     "output_type": "stream",
     "text": [
      "/home/shibutani/.local/share/virtualenvs/BoTorch_Trial-UdUIGeOu/lib/python3.7/site-packages/botorch/fit.py:148: OptimizeWarning: Unknown solver options: lr\n",
      "  warnings.warn(w.message, w.category)\n",
      "/home/shibutani/.local/share/virtualenvs/BoTorch_Trial-UdUIGeOu/lib/python3.7/site-packages/botorch/fit.py:148: OptimizeWarning: Unknown solver options: lr\n",
      "  warnings.warn(w.message, w.category)\n"
     ]
    },
    {
     "name": "stdout",
     "output_type": "stream",
     "text": [
      "gp_time: 3.7583048343658447\n",
      "rand_time: 0.0009925365447998047\n"
     ]
    },
    {
     "name": "stderr",
     "output_type": "stream",
     "text": [
      "/home/shibutani/.local/share/virtualenvs/BoTorch_Trial-UdUIGeOu/lib/python3.7/site-packages/botorch/fit.py:148: OptimizeWarning: Unknown solver options: lr\n",
      "  warnings.warn(w.message, w.category)\n",
      "/home/shibutani/.local/share/virtualenvs/BoTorch_Trial-UdUIGeOu/lib/python3.7/site-packages/botorch/fit.py:148: OptimizeWarning: Unknown solver options: lr\n",
      "  warnings.warn(w.message, w.category)\n"
     ]
    },
    {
     "name": "stdout",
     "output_type": "stream",
     "text": [
      "gp_time: 6.129531383514404\n",
      "rand_time: 0.0009341239929199219\n"
     ]
    },
    {
     "name": "stderr",
     "output_type": "stream",
     "text": [
      "/home/shibutani/.local/share/virtualenvs/BoTorch_Trial-UdUIGeOu/lib/python3.7/site-packages/botorch/fit.py:148: OptimizeWarning: Unknown solver options: lr\n",
      "  warnings.warn(w.message, w.category)\n"
     ]
    },
    {
     "name": "stdout",
     "output_type": "stream",
     "text": [
      "gp_time: 2.338500738143921\n",
      "rand_time: 0.0011990070343017578\n"
     ]
    },
    {
     "name": "stderr",
     "output_type": "stream",
     "text": [
      "/home/shibutani/.local/share/virtualenvs/BoTorch_Trial-UdUIGeOu/lib/python3.7/site-packages/botorch/fit.py:148: OptimizeWarning: Unknown solver options: lr\n",
      "  warnings.warn(w.message, w.category)\n",
      "/home/shibutani/.local/share/virtualenvs/BoTorch_Trial-UdUIGeOu/lib/python3.7/site-packages/botorch/fit.py:148: OptimizeWarning: Unknown solver options: lr\n",
      "  warnings.warn(w.message, w.category)\n",
      "/home/shibutani/.local/share/virtualenvs/BoTorch_Trial-UdUIGeOu/lib/python3.7/site-packages/botorch/fit.py:148: OptimizeWarning: Unknown solver options: lr\n",
      "  warnings.warn(w.message, w.category)\n"
     ]
    },
    {
     "name": "stdout",
     "output_type": "stream",
     "text": [
      "gp_time: 5.954014539718628\n",
      "rand_time: 0.0008924007415771484\n"
     ]
    },
    {
     "name": "stderr",
     "output_type": "stream",
     "text": [
      "/home/shibutani/.local/share/virtualenvs/BoTorch_Trial-UdUIGeOu/lib/python3.7/site-packages/botorch/fit.py:148: OptimizeWarning: Unknown solver options: lr\n",
      "  warnings.warn(w.message, w.category)\n",
      "/home/shibutani/.local/share/virtualenvs/BoTorch_Trial-UdUIGeOu/lib/python3.7/site-packages/botorch/fit.py:148: OptimizeWarning: Unknown solver options: lr\n",
      "  warnings.warn(w.message, w.category)\n"
     ]
    },
    {
     "name": "stdout",
     "output_type": "stream",
     "text": [
      "gp_time: 5.624032258987427\n",
      "rand_time: 0.0009107589721679688\n"
     ]
    },
    {
     "name": "stderr",
     "output_type": "stream",
     "text": [
      "/home/shibutani/.local/share/virtualenvs/BoTorch_Trial-UdUIGeOu/lib/python3.7/site-packages/botorch/fit.py:148: OptimizeWarning: Unknown solver options: lr\n",
      "  warnings.warn(w.message, w.category)\n"
     ]
    },
    {
     "name": "stdout",
     "output_type": "stream",
     "text": [
      "gp_time: 1.5184617042541504\n",
      "rand_time: 0.0010025501251220703\n"
     ]
    },
    {
     "name": "stderr",
     "output_type": "stream",
     "text": [
      "/home/shibutani/.local/share/virtualenvs/BoTorch_Trial-UdUIGeOu/lib/python3.7/site-packages/botorch/fit.py:148: OptimizeWarning: Unknown solver options: lr\n",
      "  warnings.warn(w.message, w.category)\n"
     ]
    },
    {
     "name": "stdout",
     "output_type": "stream",
     "text": [
      "gp_time: 2.375192880630493\n",
      "rand_time: 0.0008921623229980469\n"
     ]
    },
    {
     "name": "stderr",
     "output_type": "stream",
     "text": [
      "/home/shibutani/.local/share/virtualenvs/BoTorch_Trial-UdUIGeOu/lib/python3.7/site-packages/botorch/fit.py:148: OptimizeWarning: Unknown solver options: lr\n",
      "  warnings.warn(w.message, w.category)\n"
     ]
    },
    {
     "name": "stdout",
     "output_type": "stream",
     "text": [
      "gp_time: 1.379258155822754\n",
      "rand_time: 0.0008988380432128906\n"
     ]
    },
    {
     "name": "stderr",
     "output_type": "stream",
     "text": [
      "/home/shibutani/.local/share/virtualenvs/BoTorch_Trial-UdUIGeOu/lib/python3.7/site-packages/botorch/fit.py:148: OptimizeWarning: Unknown solver options: lr\n",
      "  warnings.warn(w.message, w.category)\n"
     ]
    },
    {
     "name": "stdout",
     "output_type": "stream",
     "text": [
      "gp_time: 2.697449207305908\n",
      "rand_time: 0.0008976459503173828\n"
     ]
    },
    {
     "name": "stderr",
     "output_type": "stream",
     "text": [
      "/home/shibutani/.local/share/virtualenvs/BoTorch_Trial-UdUIGeOu/lib/python3.7/site-packages/botorch/fit.py:148: OptimizeWarning: Unknown solver options: lr\n",
      "  warnings.warn(w.message, w.category)\n"
     ]
    },
    {
     "name": "stdout",
     "output_type": "stream",
     "text": [
      "gp_time: 1.955385446548462\n",
      "rand_time: 0.0008904933929443359\n"
     ]
    },
    {
     "name": "stderr",
     "output_type": "stream",
     "text": [
      "/home/shibutani/.local/share/virtualenvs/BoTorch_Trial-UdUIGeOu/lib/python3.7/site-packages/botorch/fit.py:148: OptimizeWarning: Unknown solver options: lr\n",
      "  warnings.warn(w.message, w.category)\n",
      "/home/shibutani/.local/share/virtualenvs/BoTorch_Trial-UdUIGeOu/lib/python3.7/site-packages/botorch/fit.py:148: OptimizeWarning: Unknown solver options: lr\n",
      "  warnings.warn(w.message, w.category)\n"
     ]
    },
    {
     "name": "stdout",
     "output_type": "stream",
     "text": [
      "gp_time: 3.0568912029266357\n",
      "rand_time: 0.0008821487426757812\n"
     ]
    },
    {
     "name": "stderr",
     "output_type": "stream",
     "text": [
      "/home/shibutani/.local/share/virtualenvs/BoTorch_Trial-UdUIGeOu/lib/python3.7/site-packages/botorch/fit.py:148: OptimizeWarning: Unknown solver options: lr\n",
      "  warnings.warn(w.message, w.category)\n"
     ]
    },
    {
     "name": "stdout",
     "output_type": "stream",
     "text": [
      "gp_time: 2.6737778186798096\n",
      "rand_time: 0.0008909702301025391\n"
     ]
    },
    {
     "name": "stderr",
     "output_type": "stream",
     "text": [
      "/home/shibutani/.local/share/virtualenvs/BoTorch_Trial-UdUIGeOu/lib/python3.7/site-packages/botorch/fit.py:148: OptimizeWarning: Unknown solver options: lr\n",
      "  warnings.warn(w.message, w.category)\n"
     ]
    },
    {
     "name": "stdout",
     "output_type": "stream",
     "text": [
      "gp_time: 2.4109859466552734\n",
      "rand_time: 0.0008656978607177734\n"
     ]
    },
    {
     "name": "stderr",
     "output_type": "stream",
     "text": [
      "/home/shibutani/.local/share/virtualenvs/BoTorch_Trial-UdUIGeOu/lib/python3.7/site-packages/botorch/fit.py:148: OptimizeWarning: Unknown solver options: lr\n",
      "  warnings.warn(w.message, w.category)\n"
     ]
    },
    {
     "name": "stdout",
     "output_type": "stream",
     "text": [
      "gp_time: 2.8125975131988525\n",
      "rand_time: 0.0009033679962158203\n"
     ]
    },
    {
     "name": "stderr",
     "output_type": "stream",
     "text": [
      "/home/shibutani/.local/share/virtualenvs/BoTorch_Trial-UdUIGeOu/lib/python3.7/site-packages/botorch/fit.py:148: OptimizeWarning: Unknown solver options: lr\n",
      "  warnings.warn(w.message, w.category)\n",
      "/home/shibutani/.local/share/virtualenvs/BoTorch_Trial-UdUIGeOu/lib/python3.7/site-packages/botorch/fit.py:148: OptimizeWarning: Unknown solver options: lr\n",
      "  warnings.warn(w.message, w.category)\n"
     ]
    },
    {
     "name": "stdout",
     "output_type": "stream",
     "text": [
      "gp_time: 4.199998617172241\n",
      "rand_time: 0.0009140968322753906\n"
     ]
    },
    {
     "name": "stderr",
     "output_type": "stream",
     "text": [
      "/home/shibutani/.local/share/virtualenvs/BoTorch_Trial-UdUIGeOu/lib/python3.7/site-packages/botorch/fit.py:148: OptimizeWarning: Unknown solver options: lr\n",
      "  warnings.warn(w.message, w.category)\n"
     ]
    },
    {
     "name": "stdout",
     "output_type": "stream",
     "text": [
      "gp_time: 2.5726401805877686\n",
      "rand_time: 0.0010647773742675781\n"
     ]
    },
    {
     "name": "stderr",
     "output_type": "stream",
     "text": [
      "/home/shibutani/.local/share/virtualenvs/BoTorch_Trial-UdUIGeOu/lib/python3.7/site-packages/botorch/fit.py:148: OptimizeWarning: Unknown solver options: lr\n",
      "  warnings.warn(w.message, w.category)\n",
      "/home/shibutani/.local/share/virtualenvs/BoTorch_Trial-UdUIGeOu/lib/python3.7/site-packages/botorch/fit.py:148: OptimizeWarning: Unknown solver options: lr\n",
      "  warnings.warn(w.message, w.category)\n",
      "/home/shibutani/.local/share/virtualenvs/BoTorch_Trial-UdUIGeOu/lib/python3.7/site-packages/botorch/fit.py:148: OptimizeWarning: Unknown solver options: lr\n",
      "  warnings.warn(w.message, w.category)\n"
     ]
    },
    {
     "name": "stdout",
     "output_type": "stream",
     "text": [
      "gp_time: 5.09293532371521\n",
      "rand_time: 0.0008990764617919922\n"
     ]
    },
    {
     "name": "stderr",
     "output_type": "stream",
     "text": [
      "/home/shibutani/.local/share/virtualenvs/BoTorch_Trial-UdUIGeOu/lib/python3.7/site-packages/botorch/fit.py:148: OptimizeWarning: Unknown solver options: lr\n",
      "  warnings.warn(w.message, w.category)\n",
      "/home/shibutani/.local/share/virtualenvs/BoTorch_Trial-UdUIGeOu/lib/python3.7/site-packages/botorch/fit.py:148: OptimizeWarning: Unknown solver options: lr\n",
      "  warnings.warn(w.message, w.category)\n"
     ]
    },
    {
     "name": "stdout",
     "output_type": "stream",
     "text": [
      "gp_time: 3.5034351348876953\n",
      "rand_time: 0.0008819103240966797\n"
     ]
    },
    {
     "name": "stderr",
     "output_type": "stream",
     "text": [
      "/home/shibutani/.local/share/virtualenvs/BoTorch_Trial-UdUIGeOu/lib/python3.7/site-packages/botorch/fit.py:148: OptimizeWarning: Unknown solver options: lr\n",
      "  warnings.warn(w.message, w.category)\n",
      "/home/shibutani/.local/share/virtualenvs/BoTorch_Trial-UdUIGeOu/lib/python3.7/site-packages/botorch/fit.py:148: OptimizeWarning: Unknown solver options: lr\n",
      "  warnings.warn(w.message, w.category)\n",
      "/home/shibutani/.local/share/virtualenvs/BoTorch_Trial-UdUIGeOu/lib/python3.7/site-packages/botorch/fit.py:148: OptimizeWarning: Unknown solver options: lr\n",
      "  warnings.warn(w.message, w.category)\n"
     ]
    },
    {
     "name": "stdout",
     "output_type": "stream",
     "text": [
      "gp_time: 6.899758815765381\n",
      "rand_time: 0.0008847713470458984\n"
     ]
    },
    {
     "name": "stderr",
     "output_type": "stream",
     "text": [
      "/home/shibutani/.local/share/virtualenvs/BoTorch_Trial-UdUIGeOu/lib/python3.7/site-packages/botorch/fit.py:148: OptimizeWarning: Unknown solver options: lr\n",
      "  warnings.warn(w.message, w.category)\n"
     ]
    },
    {
     "name": "stdout",
     "output_type": "stream",
     "text": [
      "gp_time: 2.249345064163208\n",
      "rand_time: 0.0008840560913085938\n"
     ]
    },
    {
     "name": "stderr",
     "output_type": "stream",
     "text": [
      "/home/shibutani/.local/share/virtualenvs/BoTorch_Trial-UdUIGeOu/lib/python3.7/site-packages/botorch/fit.py:148: OptimizeWarning: Unknown solver options: lr\n",
      "  warnings.warn(w.message, w.category)\n"
     ]
    },
    {
     "name": "stdout",
     "output_type": "stream",
     "text": [
      "gp_time: 1.7020618915557861\n",
      "rand_time: 0.0008764266967773438\n"
     ]
    },
    {
     "name": "stderr",
     "output_type": "stream",
     "text": [
      "/home/shibutani/.local/share/virtualenvs/BoTorch_Trial-UdUIGeOu/lib/python3.7/site-packages/botorch/fit.py:148: OptimizeWarning: Unknown solver options: lr\n",
      "  warnings.warn(w.message, w.category)\n"
     ]
    },
    {
     "name": "stdout",
     "output_type": "stream",
     "text": [
      "gp_time: 2.1658084392547607\n",
      "rand_time: 0.0008540153503417969\n"
     ]
    },
    {
     "name": "stderr",
     "output_type": "stream",
     "text": [
      "/home/shibutani/.local/share/virtualenvs/BoTorch_Trial-UdUIGeOu/lib/python3.7/site-packages/botorch/fit.py:148: OptimizeWarning: Unknown solver options: lr\n",
      "  warnings.warn(w.message, w.category)\n"
     ]
    },
    {
     "name": "stdout",
     "output_type": "stream",
     "text": [
      "gp_time: 2.4633047580718994\n",
      "rand_time: 0.0008733272552490234\n"
     ]
    },
    {
     "name": "stderr",
     "output_type": "stream",
     "text": [
      "/home/shibutani/.local/share/virtualenvs/BoTorch_Trial-UdUIGeOu/lib/python3.7/site-packages/botorch/fit.py:148: OptimizeWarning: Unknown solver options: lr\n",
      "  warnings.warn(w.message, w.category)\n"
     ]
    },
    {
     "name": "stdout",
     "output_type": "stream",
     "text": [
      "gp_time: 3.3499603271484375\n",
      "rand_time: 0.0009002685546875\n"
     ]
    },
    {
     "name": "stderr",
     "output_type": "stream",
     "text": [
      "/home/shibutani/.local/share/virtualenvs/BoTorch_Trial-UdUIGeOu/lib/python3.7/site-packages/botorch/fit.py:148: OptimizeWarning: Unknown solver options: lr\n",
      "  warnings.warn(w.message, w.category)\n",
      "/home/shibutani/.local/share/virtualenvs/BoTorch_Trial-UdUIGeOu/lib/python3.7/site-packages/botorch/fit.py:148: OptimizeWarning: Unknown solver options: lr\n",
      "  warnings.warn(w.message, w.category)\n"
     ]
    },
    {
     "name": "stdout",
     "output_type": "stream",
     "text": [
      "gp_time: 3.8607258796691895\n",
      "rand_time: 0.0009644031524658203\n"
     ]
    },
    {
     "name": "stderr",
     "output_type": "stream",
     "text": [
      "/home/shibutani/.local/share/virtualenvs/BoTorch_Trial-UdUIGeOu/lib/python3.7/site-packages/botorch/fit.py:148: OptimizeWarning: Unknown solver options: lr\n",
      "  warnings.warn(w.message, w.category)\n",
      "/home/shibutani/.local/share/virtualenvs/BoTorch_Trial-UdUIGeOu/lib/python3.7/site-packages/botorch/optim/optimize.py:287: RuntimeWarning: Optimization failed in `gen_candidates_scipy` with the following warning(s):\n",
      "[NumericalWarning('A not p.d., added jitter of 1.0e-08 to the diagonal'), NumericalWarning('A not p.d., added jitter of 1.0e-07 to the diagonal'), NumericalWarning('A not p.d., added jitter of 1.0e-06 to the diagonal'), NumericalWarning('Runtime Error when computing Cholesky decomposition: Matrix not positive definite after repeatedly adding jitter up to 1.0e-06.. Using symeig method.'), NumericalWarning('A not p.d., added jitter of 1.0e-08 to the diagonal'), NumericalWarning('A not p.d., added jitter of 1.0e-07 to the diagonal'), NumericalWarning('A not p.d., added jitter of 1.0e-06 to the diagonal'), NumericalWarning('Runtime Error when computing Cholesky decomposition: Matrix not positive definite after repeatedly adding jitter up to 1.0e-06.. Using symeig method.'), NumericalWarning('A not p.d., added jitter of 1.0e-08 to the diagonal'), NumericalWarning('A not p.d., added jitter of 1.0e-07 to the diagonal'), NumericalWarning('A not p.d., added jitter of 1.0e-06 to the diagonal'), NumericalWarning('Runtime Error when computing Cholesky decomposition: Matrix not positive definite after repeatedly adding jitter up to 1.0e-06.. Using symeig method.'), NumericalWarning('A not p.d., added jitter of 1.0e-08 to the diagonal'), NumericalWarning('A not p.d., added jitter of 1.0e-07 to the diagonal'), NumericalWarning('A not p.d., added jitter of 1.0e-06 to the diagonal'), NumericalWarning('Runtime Error when computing Cholesky decomposition: Matrix not positive definite after repeatedly adding jitter up to 1.0e-06.. Using symeig method.'), NumericalWarning('A not p.d., added jitter of 1.0e-08 to the diagonal'), NumericalWarning('A not p.d., added jitter of 1.0e-07 to the diagonal'), NumericalWarning('A not p.d., added jitter of 1.0e-06 to the diagonal'), NumericalWarning('Runtime Error when computing Cholesky decomposition: Matrix not positive definite after repeatedly adding jitter up to 1.0e-06.. Using symeig method.'), NumericalWarning('A not p.d., added jitter of 1.0e-08 to the diagonal'), NumericalWarning('A not p.d., added jitter of 1.0e-07 to the diagonal'), NumericalWarning('A not p.d., added jitter of 1.0e-06 to the diagonal'), NumericalWarning('Runtime Error when computing Cholesky decomposition: Matrix not positive definite after repeatedly adding jitter up to 1.0e-06.. Using symeig method.'), NumericalWarning('A not p.d., added jitter of 1.0e-08 to the diagonal'), NumericalWarning('A not p.d., added jitter of 1.0e-07 to the diagonal'), NumericalWarning('A not p.d., added jitter of 1.0e-06 to the diagonal'), NumericalWarning('Runtime Error when computing Cholesky decomposition: Matrix not positive definite after repeatedly adding jitter up to 1.0e-06.. Using symeig method.'), NumericalWarning('A not p.d., added jitter of 1.0e-08 to the diagonal'), NumericalWarning('A not p.d., added jitter of 1.0e-07 to the diagonal'), NumericalWarning('A not p.d., added jitter of 1.0e-06 to the diagonal'), NumericalWarning('Runtime Error when computing Cholesky decomposition: Matrix not positive definite after repeatedly adding jitter up to 1.0e-06.. Using symeig method.'), OptimizationWarning('Optimization failed within `scipy.optimize.minimize` with status 2.'), NumericalWarning('A not p.d., added jitter of 1.0e-08 to the diagonal'), NumericalWarning('A not p.d., added jitter of 1.0e-07 to the diagonal'), NumericalWarning('A not p.d., added jitter of 1.0e-06 to the diagonal'), NumericalWarning('Runtime Error when computing Cholesky decomposition: Matrix not positive definite after repeatedly adding jitter up to 1.0e-06.. Using symeig method.'), NumericalWarning('A not p.d., added jitter of 1.0e-08 to the diagonal'), NumericalWarning('A not p.d., added jitter of 1.0e-07 to the diagonal'), NumericalWarning('A not p.d., added jitter of 1.0e-06 to the diagonal'), NumericalWarning('Runtime Error when computing Cholesky decomposition: Matrix not positive definite after repeatedly adding jitter up to 1.0e-06.. Using symeig method.'), NumericalWarning('A not p.d., added jitter of 1.0e-08 to the diagonal'), NumericalWarning('A not p.d., added jitter of 1.0e-07 to the diagonal'), NumericalWarning('A not p.d., added jitter of 1.0e-06 to the diagonal'), NumericalWarning('Runtime Error when computing Cholesky decomposition: Matrix not positive definite after repeatedly adding jitter up to 1.0e-06.. Using symeig method.')]\n",
      "Trying again with a new set of initial conditions.\n",
      "  warnings.warn(first_warn_msg, RuntimeWarning)\n",
      "/home/shibutani/.local/share/virtualenvs/BoTorch_Trial-UdUIGeOu/lib/python3.7/site-packages/botorch/optim/optimize.py:301: RuntimeWarning: Optimization failed on the second try, after generating a new set of initial conditions.\n",
      "  RuntimeWarning,\n"
     ]
    },
    {
     "name": "stdout",
     "output_type": "stream",
     "text": [
      "gp_time: 4.308732271194458\n",
      "rand_time: 0.0008935928344726562\n"
     ]
    },
    {
     "name": "stderr",
     "output_type": "stream",
     "text": [
      "/home/shibutani/.local/share/virtualenvs/BoTorch_Trial-UdUIGeOu/lib/python3.7/site-packages/botorch/fit.py:148: OptimizeWarning: Unknown solver options: lr\n",
      "  warnings.warn(w.message, w.category)\n",
      "/home/shibutani/.local/share/virtualenvs/BoTorch_Trial-UdUIGeOu/lib/python3.7/site-packages/botorch/fit.py:155: RuntimeWarning: Fitting failed on all retries.\n",
      "  warnings.warn(\"Fitting failed on all retries.\", RuntimeWarning)\n"
     ]
    },
    {
     "ename": "NotPSDError",
     "evalue": "Matrix not positive definite after repeatedly adding jitter up to 1.0e-06.",
     "output_type": "error",
     "traceback": [
      "\u001b[0;31m---------------------------------------------------------------------------\u001b[0m",
      "\u001b[0;31mNotPSDError\u001b[0m                               Traceback (most recent call last)",
      "\u001b[0;32m/tmp/ipykernel_17467/2017036964.py\u001b[0m in \u001b[0;36m<module>\u001b[0;34m\u001b[0m\n\u001b[1;32m     46\u001b[0m         \u001b[0mnum_restarts\u001b[0m\u001b[0;34m=\u001b[0m\u001b[0;36m10\u001b[0m\u001b[0;34m,\u001b[0m\u001b[0;34m\u001b[0m\u001b[0;34m\u001b[0m\u001b[0m\n\u001b[1;32m     47\u001b[0m         \u001b[0mraw_samples\u001b[0m\u001b[0;34m=\u001b[0m\u001b[0;36m128\u001b[0m\u001b[0;34m,\u001b[0m  \u001b[0;31m# used for intialization heuristic\u001b[0m\u001b[0;34m\u001b[0m\u001b[0;34m\u001b[0m\u001b[0m\n\u001b[0;32m---> 48\u001b[0;31m         \u001b[0moptions\u001b[0m\u001b[0;34m=\u001b[0m\u001b[0;34m{\u001b[0m\u001b[0;34m\"batch_limit\"\u001b[0m\u001b[0;34m:\u001b[0m \u001b[0;36m1\u001b[0m\u001b[0;34m,\u001b[0m \u001b[0;34m\"maxiter\"\u001b[0m\u001b[0;34m:\u001b[0m \u001b[0;36m200\u001b[0m\u001b[0;34m,\u001b[0m \u001b[0;34m\"init_batch_limit\"\u001b[0m\u001b[0;34m:\u001b[0m \u001b[0;36m1\u001b[0m\u001b[0;34m}\u001b[0m\u001b[0;34m,\u001b[0m\u001b[0;34m\u001b[0m\u001b[0;34m\u001b[0m\u001b[0m\n\u001b[0m\u001b[1;32m     49\u001b[0m     )\n\u001b[1;32m     50\u001b[0m     \u001b[0mgp_t1\u001b[0m \u001b[0;34m=\u001b[0m \u001b[0mtime\u001b[0m\u001b[0;34m.\u001b[0m\u001b[0mtime\u001b[0m\u001b[0;34m(\u001b[0m\u001b[0;34m)\u001b[0m\u001b[0;34m\u001b[0m\u001b[0;34m\u001b[0m\u001b[0m\n",
      "\u001b[0;32m~/.local/share/virtualenvs/BoTorch_Trial-UdUIGeOu/lib/python3.7/site-packages/botorch/optim/optimize.py\u001b[0m in \u001b[0;36moptimize_acqf\u001b[0;34m(acq_function, bounds, q, num_restarts, raw_samples, options, inequality_constraints, equality_constraints, nonlinear_inequality_constraints, fixed_features, post_processing_func, batch_initial_conditions, return_best_only, sequential, **kwargs)\u001b[0m\n\u001b[1;32m    228\u001b[0m \u001b[0;34m\u001b[0m\u001b[0m\n\u001b[1;32m    229\u001b[0m     \u001b[0;32mif\u001b[0m \u001b[0;32mnot\u001b[0m \u001b[0minitial_conditions_provided\u001b[0m\u001b[0;34m:\u001b[0m\u001b[0;34m\u001b[0m\u001b[0;34m\u001b[0m\u001b[0m\n\u001b[0;32m--> 230\u001b[0;31m         \u001b[0mbatch_initial_conditions\u001b[0m \u001b[0;34m=\u001b[0m \u001b[0m_gen_initial_conditions\u001b[0m\u001b[0;34m(\u001b[0m\u001b[0;34m)\u001b[0m\u001b[0;34m\u001b[0m\u001b[0;34m\u001b[0m\u001b[0m\n\u001b[0m\u001b[1;32m    231\u001b[0m \u001b[0;34m\u001b[0m\u001b[0m\n\u001b[1;32m    232\u001b[0m     batch_limit: int = options.get(\n",
      "\u001b[0;32m~/.local/share/virtualenvs/BoTorch_Trial-UdUIGeOu/lib/python3.7/site-packages/botorch/optim/optimize.py\u001b[0m in \u001b[0;36m_gen_initial_conditions\u001b[0;34m()\u001b[0m\n\u001b[1;32m    223\u001b[0m             \u001b[0moptions\u001b[0m\u001b[0;34m=\u001b[0m\u001b[0moptions\u001b[0m\u001b[0;34m,\u001b[0m\u001b[0;34m\u001b[0m\u001b[0;34m\u001b[0m\u001b[0m\n\u001b[1;32m    224\u001b[0m             \u001b[0minequality_constraints\u001b[0m\u001b[0;34m=\u001b[0m\u001b[0minequality_constraints\u001b[0m\u001b[0;34m,\u001b[0m\u001b[0;34m\u001b[0m\u001b[0;34m\u001b[0m\u001b[0m\n\u001b[0;32m--> 225\u001b[0;31m             \u001b[0mequality_constraints\u001b[0m\u001b[0;34m=\u001b[0m\u001b[0mequality_constraints\u001b[0m\u001b[0;34m,\u001b[0m\u001b[0;34m\u001b[0m\u001b[0;34m\u001b[0m\u001b[0m\n\u001b[0m\u001b[1;32m    226\u001b[0m         )\n\u001b[1;32m    227\u001b[0m         \u001b[0;32mreturn\u001b[0m \u001b[0mbatch_initial_conditions\u001b[0m\u001b[0;34m\u001b[0m\u001b[0;34m\u001b[0m\u001b[0m\n",
      "\u001b[0;32m~/.local/share/virtualenvs/BoTorch_Trial-UdUIGeOu/lib/python3.7/site-packages/botorch/optim/initializers.py\u001b[0m in \u001b[0;36mgen_batch_initial_conditions\u001b[0;34m(acq_function, bounds, q, num_restarts, raw_samples, fixed_features, options, inequality_constraints, equality_constraints)\u001b[0m\n\u001b[1;32m    193\u001b[0m                     \u001b[0mend_idx\u001b[0m \u001b[0;34m=\u001b[0m \u001b[0mmin\u001b[0m\u001b[0;34m(\u001b[0m\u001b[0mstart_idx\u001b[0m \u001b[0;34m+\u001b[0m \u001b[0mbatch_limit\u001b[0m\u001b[0;34m,\u001b[0m \u001b[0mX_rnd\u001b[0m\u001b[0;34m.\u001b[0m\u001b[0mshape\u001b[0m\u001b[0;34m[\u001b[0m\u001b[0;36m0\u001b[0m\u001b[0;34m]\u001b[0m\u001b[0;34m)\u001b[0m\u001b[0;34m\u001b[0m\u001b[0;34m\u001b[0m\u001b[0m\n\u001b[1;32m    194\u001b[0m                     Y_rnd_curr = acq_function(\n\u001b[0;32m--> 195\u001b[0;31m                         \u001b[0mX_rnd\u001b[0m\u001b[0;34m[\u001b[0m\u001b[0mstart_idx\u001b[0m\u001b[0;34m:\u001b[0m\u001b[0mend_idx\u001b[0m\u001b[0;34m]\u001b[0m\u001b[0;34m.\u001b[0m\u001b[0mto\u001b[0m\u001b[0;34m(\u001b[0m\u001b[0mdevice\u001b[0m\u001b[0;34m=\u001b[0m\u001b[0mdevice\u001b[0m\u001b[0;34m)\u001b[0m\u001b[0;34m\u001b[0m\u001b[0;34m\u001b[0m\u001b[0m\n\u001b[0m\u001b[1;32m    196\u001b[0m                     ).cpu()\n\u001b[1;32m    197\u001b[0m                     \u001b[0mY_rnd_list\u001b[0m\u001b[0;34m.\u001b[0m\u001b[0mappend\u001b[0m\u001b[0;34m(\u001b[0m\u001b[0mY_rnd_curr\u001b[0m\u001b[0;34m)\u001b[0m\u001b[0;34m\u001b[0m\u001b[0;34m\u001b[0m\u001b[0m\n",
      "\u001b[0;32m~/.local/share/virtualenvs/BoTorch_Trial-UdUIGeOu/lib/python3.7/site-packages/torch/nn/modules/module.py\u001b[0m in \u001b[0;36m_call_impl\u001b[0;34m(self, *input, **kwargs)\u001b[0m\n\u001b[1;32m   1100\u001b[0m         if not (self._backward_hooks or self._forward_hooks or self._forward_pre_hooks or _global_backward_hooks\n\u001b[1;32m   1101\u001b[0m                 or _global_forward_hooks or _global_forward_pre_hooks):\n\u001b[0;32m-> 1102\u001b[0;31m             \u001b[0;32mreturn\u001b[0m \u001b[0mforward_call\u001b[0m\u001b[0;34m(\u001b[0m\u001b[0;34m*\u001b[0m\u001b[0minput\u001b[0m\u001b[0;34m,\u001b[0m \u001b[0;34m**\u001b[0m\u001b[0mkwargs\u001b[0m\u001b[0;34m)\u001b[0m\u001b[0;34m\u001b[0m\u001b[0;34m\u001b[0m\u001b[0m\n\u001b[0m\u001b[1;32m   1103\u001b[0m         \u001b[0;31m# Do not call functions when jit is used\u001b[0m\u001b[0;34m\u001b[0m\u001b[0;34m\u001b[0m\u001b[0;34m\u001b[0m\u001b[0m\n\u001b[1;32m   1104\u001b[0m         \u001b[0mfull_backward_hooks\u001b[0m\u001b[0;34m,\u001b[0m \u001b[0mnon_full_backward_hooks\u001b[0m \u001b[0;34m=\u001b[0m \u001b[0;34m[\u001b[0m\u001b[0;34m]\u001b[0m\u001b[0;34m,\u001b[0m \u001b[0;34m[\u001b[0m\u001b[0;34m]\u001b[0m\u001b[0;34m\u001b[0m\u001b[0;34m\u001b[0m\u001b[0m\n",
      "\u001b[0;32m~/.local/share/virtualenvs/BoTorch_Trial-UdUIGeOu/lib/python3.7/site-packages/botorch/utils/transforms.py\u001b[0m in \u001b[0;36mdecorated\u001b[0;34m(cls, X, **kwargs)\u001b[0m\n\u001b[1;32m    299\u001b[0m         \u001b[0;32mif\u001b[0m \u001b[0mcls\u001b[0m\u001b[0;34m.\u001b[0m\u001b[0mX_pending\u001b[0m \u001b[0;32mis\u001b[0m \u001b[0;32mnot\u001b[0m \u001b[0;32mNone\u001b[0m\u001b[0;34m:\u001b[0m\u001b[0;34m\u001b[0m\u001b[0;34m\u001b[0m\u001b[0m\n\u001b[1;32m    300\u001b[0m             \u001b[0mX\u001b[0m \u001b[0;34m=\u001b[0m \u001b[0mtorch\u001b[0m\u001b[0;34m.\u001b[0m\u001b[0mcat\u001b[0m\u001b[0;34m(\u001b[0m\u001b[0;34m[\u001b[0m\u001b[0mX\u001b[0m\u001b[0;34m,\u001b[0m \u001b[0mmatch_batch_shape\u001b[0m\u001b[0;34m(\u001b[0m\u001b[0mcls\u001b[0m\u001b[0;34m.\u001b[0m\u001b[0mX_pending\u001b[0m\u001b[0;34m,\u001b[0m \u001b[0mX\u001b[0m\u001b[0;34m)\u001b[0m\u001b[0;34m]\u001b[0m\u001b[0;34m,\u001b[0m \u001b[0mdim\u001b[0m\u001b[0;34m=\u001b[0m\u001b[0;34m-\u001b[0m\u001b[0;36m2\u001b[0m\u001b[0;34m)\u001b[0m\u001b[0;34m\u001b[0m\u001b[0;34m\u001b[0m\u001b[0m\n\u001b[0;32m--> 301\u001b[0;31m         \u001b[0;32mreturn\u001b[0m \u001b[0mmethod\u001b[0m\u001b[0;34m(\u001b[0m\u001b[0mcls\u001b[0m\u001b[0;34m,\u001b[0m \u001b[0mX\u001b[0m\u001b[0;34m,\u001b[0m \u001b[0;34m**\u001b[0m\u001b[0mkwargs\u001b[0m\u001b[0;34m)\u001b[0m\u001b[0;34m\u001b[0m\u001b[0;34m\u001b[0m\u001b[0m\n\u001b[0m\u001b[1;32m    302\u001b[0m \u001b[0;34m\u001b[0m\u001b[0m\n\u001b[1;32m    303\u001b[0m     \u001b[0;32mreturn\u001b[0m \u001b[0mdecorated\u001b[0m\u001b[0;34m\u001b[0m\u001b[0;34m\u001b[0m\u001b[0m\n",
      "\u001b[0;32m~/.local/share/virtualenvs/BoTorch_Trial-UdUIGeOu/lib/python3.7/site-packages/botorch/utils/transforms.py\u001b[0m in \u001b[0;36mdecorated\u001b[0;34m(acqf, X, *args, **kwargs)\u001b[0m\n\u001b[1;32m    256\u001b[0m             \u001b[0;31m# add t-batch dim\u001b[0m\u001b[0;34m\u001b[0m\u001b[0;34m\u001b[0m\u001b[0;34m\u001b[0m\u001b[0m\n\u001b[1;32m    257\u001b[0m             \u001b[0mX\u001b[0m \u001b[0;34m=\u001b[0m \u001b[0mX\u001b[0m \u001b[0;32mif\u001b[0m \u001b[0mX\u001b[0m\u001b[0;34m.\u001b[0m\u001b[0mdim\u001b[0m\u001b[0;34m(\u001b[0m\u001b[0;34m)\u001b[0m \u001b[0;34m>\u001b[0m \u001b[0;36m2\u001b[0m \u001b[0;32melse\u001b[0m \u001b[0mX\u001b[0m\u001b[0;34m.\u001b[0m\u001b[0munsqueeze\u001b[0m\u001b[0;34m(\u001b[0m\u001b[0;36m0\u001b[0m\u001b[0;34m)\u001b[0m\u001b[0;34m\u001b[0m\u001b[0;34m\u001b[0m\u001b[0m\n\u001b[0;32m--> 258\u001b[0;31m             \u001b[0moutput\u001b[0m \u001b[0;34m=\u001b[0m \u001b[0mmethod\u001b[0m\u001b[0;34m(\u001b[0m\u001b[0macqf\u001b[0m\u001b[0;34m,\u001b[0m \u001b[0mX\u001b[0m\u001b[0;34m,\u001b[0m \u001b[0;34m*\u001b[0m\u001b[0margs\u001b[0m\u001b[0;34m,\u001b[0m \u001b[0;34m**\u001b[0m\u001b[0mkwargs\u001b[0m\u001b[0;34m)\u001b[0m\u001b[0;34m\u001b[0m\u001b[0;34m\u001b[0m\u001b[0m\n\u001b[0m\u001b[1;32m    259\u001b[0m             \u001b[0;32mif\u001b[0m \u001b[0mhasattr\u001b[0m\u001b[0;34m(\u001b[0m\u001b[0macqf\u001b[0m\u001b[0;34m,\u001b[0m \u001b[0;34m\"model\"\u001b[0m\u001b[0;34m)\u001b[0m \u001b[0;32mand\u001b[0m \u001b[0mis_fully_bayesian\u001b[0m\u001b[0;34m(\u001b[0m\u001b[0macqf\u001b[0m\u001b[0;34m.\u001b[0m\u001b[0mmodel\u001b[0m\u001b[0;34m)\u001b[0m\u001b[0;34m:\u001b[0m\u001b[0;34m\u001b[0m\u001b[0;34m\u001b[0m\u001b[0m\n\u001b[1;32m    260\u001b[0m                 \u001b[0moutput\u001b[0m \u001b[0;34m=\u001b[0m \u001b[0moutput\u001b[0m\u001b[0;34m.\u001b[0m\u001b[0mmean\u001b[0m\u001b[0;34m(\u001b[0m\u001b[0mdim\u001b[0m\u001b[0;34m=\u001b[0m\u001b[0;34m-\u001b[0m\u001b[0;36m1\u001b[0m\u001b[0;34m)\u001b[0m\u001b[0;34m\u001b[0m\u001b[0;34m\u001b[0m\u001b[0m\n",
      "\u001b[0;32m~/.local/share/virtualenvs/BoTorch_Trial-UdUIGeOu/lib/python3.7/site-packages/botorch/acquisition/monte_carlo.py\u001b[0m in \u001b[0;36mforward\u001b[0;34m(self, X)\u001b[0m\n\u001b[1;32m    571\u001b[0m         \"\"\"\n\u001b[1;32m    572\u001b[0m         posterior = self.model.posterior(\n\u001b[0;32m--> 573\u001b[0;31m             \u001b[0mX\u001b[0m\u001b[0;34m=\u001b[0m\u001b[0mX\u001b[0m\u001b[0;34m,\u001b[0m \u001b[0mposterior_transform\u001b[0m\u001b[0;34m=\u001b[0m\u001b[0mself\u001b[0m\u001b[0;34m.\u001b[0m\u001b[0mposterior_transform\u001b[0m\u001b[0;34m\u001b[0m\u001b[0;34m\u001b[0m\u001b[0m\n\u001b[0m\u001b[1;32m    574\u001b[0m         )\n\u001b[1;32m    575\u001b[0m         \u001b[0msamples\u001b[0m \u001b[0;34m=\u001b[0m \u001b[0mself\u001b[0m\u001b[0;34m.\u001b[0m\u001b[0msampler\u001b[0m\u001b[0;34m(\u001b[0m\u001b[0mposterior\u001b[0m\u001b[0;34m)\u001b[0m\u001b[0;34m\u001b[0m\u001b[0;34m\u001b[0m\u001b[0m\n",
      "\u001b[0;32m~/.local/share/virtualenvs/BoTorch_Trial-UdUIGeOu/lib/python3.7/site-packages/botorch/models/gpytorch.py\u001b[0m in \u001b[0;36mposterior\u001b[0;34m(self, X, output_indices, observation_noise, posterior_transform, **kwargs)\u001b[0m\n\u001b[1;32m    676\u001b[0m         \u001b[0mX_full\u001b[0m \u001b[0;34m=\u001b[0m \u001b[0mself\u001b[0m\u001b[0;34m.\u001b[0m\u001b[0mtransform_inputs\u001b[0m\u001b[0;34m(\u001b[0m\u001b[0mX_full\u001b[0m\u001b[0;34m)\u001b[0m\u001b[0;34m\u001b[0m\u001b[0;34m\u001b[0m\u001b[0m\n\u001b[1;32m    677\u001b[0m         \u001b[0;32mwith\u001b[0m \u001b[0mgpt_posterior_settings\u001b[0m\u001b[0;34m(\u001b[0m\u001b[0;34m)\u001b[0m\u001b[0;34m:\u001b[0m\u001b[0;34m\u001b[0m\u001b[0;34m\u001b[0m\u001b[0m\n\u001b[0;32m--> 678\u001b[0;31m             \u001b[0mmvn\u001b[0m \u001b[0;34m=\u001b[0m \u001b[0mself\u001b[0m\u001b[0;34m(\u001b[0m\u001b[0mX_full\u001b[0m\u001b[0;34m)\u001b[0m\u001b[0;34m\u001b[0m\u001b[0;34m\u001b[0m\u001b[0m\n\u001b[0m\u001b[1;32m    679\u001b[0m             \u001b[0;32mif\u001b[0m \u001b[0mobservation_noise\u001b[0m \u001b[0;32mis\u001b[0m \u001b[0;32mnot\u001b[0m \u001b[0;32mFalse\u001b[0m\u001b[0;34m:\u001b[0m\u001b[0;34m\u001b[0m\u001b[0;34m\u001b[0m\u001b[0m\n\u001b[1;32m    680\u001b[0m                 raise NotImplementedError(\n",
      "\u001b[0;32m~/.local/share/virtualenvs/BoTorch_Trial-UdUIGeOu/lib/python3.7/site-packages/gpytorch/models/exact_gp.py\u001b[0m in \u001b[0;36m__call__\u001b[0;34m(self, *args, **kwargs)\u001b[0m\n\u001b[1;32m    317\u001b[0m             \u001b[0;31m# Make the prediction\u001b[0m\u001b[0;34m\u001b[0m\u001b[0;34m\u001b[0m\u001b[0;34m\u001b[0m\u001b[0m\n\u001b[1;32m    318\u001b[0m             \u001b[0;32mwith\u001b[0m \u001b[0msettings\u001b[0m\u001b[0;34m.\u001b[0m\u001b[0m_use_eval_tolerance\u001b[0m\u001b[0;34m(\u001b[0m\u001b[0;34m)\u001b[0m\u001b[0;34m:\u001b[0m\u001b[0;34m\u001b[0m\u001b[0;34m\u001b[0m\u001b[0m\n\u001b[0;32m--> 319\u001b[0;31m                 \u001b[0mpredictive_mean\u001b[0m\u001b[0;34m,\u001b[0m \u001b[0mpredictive_covar\u001b[0m \u001b[0;34m=\u001b[0m \u001b[0mself\u001b[0m\u001b[0;34m.\u001b[0m\u001b[0mprediction_strategy\u001b[0m\u001b[0;34m.\u001b[0m\u001b[0mexact_prediction\u001b[0m\u001b[0;34m(\u001b[0m\u001b[0mfull_mean\u001b[0m\u001b[0;34m,\u001b[0m \u001b[0mfull_covar\u001b[0m\u001b[0;34m)\u001b[0m\u001b[0;34m\u001b[0m\u001b[0;34m\u001b[0m\u001b[0m\n\u001b[0m\u001b[1;32m    320\u001b[0m \u001b[0;34m\u001b[0m\u001b[0m\n\u001b[1;32m    321\u001b[0m             \u001b[0;31m# Reshape predictive mean to match the appropriate event shape\u001b[0m\u001b[0;34m\u001b[0m\u001b[0;34m\u001b[0m\u001b[0;34m\u001b[0m\u001b[0m\n",
      "\u001b[0;32m~/.local/share/virtualenvs/BoTorch_Trial-UdUIGeOu/lib/python3.7/site-packages/gpytorch/models/exact_prediction_strategies.py\u001b[0m in \u001b[0;36mexact_prediction\u001b[0;34m(self, joint_mean, joint_covar)\u001b[0m\n\u001b[1;32m    269\u001b[0m \u001b[0;34m\u001b[0m\u001b[0m\n\u001b[1;32m    270\u001b[0m         return (\n\u001b[0;32m--> 271\u001b[0;31m             \u001b[0mself\u001b[0m\u001b[0;34m.\u001b[0m\u001b[0mexact_predictive_mean\u001b[0m\u001b[0;34m(\u001b[0m\u001b[0mtest_mean\u001b[0m\u001b[0;34m,\u001b[0m \u001b[0mtest_train_covar\u001b[0m\u001b[0;34m)\u001b[0m\u001b[0;34m,\u001b[0m\u001b[0;34m\u001b[0m\u001b[0;34m\u001b[0m\u001b[0m\n\u001b[0m\u001b[1;32m    272\u001b[0m             \u001b[0mself\u001b[0m\u001b[0;34m.\u001b[0m\u001b[0mexact_predictive_covar\u001b[0m\u001b[0;34m(\u001b[0m\u001b[0mtest_test_covar\u001b[0m\u001b[0;34m,\u001b[0m \u001b[0mtest_train_covar\u001b[0m\u001b[0;34m)\u001b[0m\u001b[0;34m,\u001b[0m\u001b[0;34m\u001b[0m\u001b[0;34m\u001b[0m\u001b[0m\n\u001b[1;32m    273\u001b[0m         )\n",
      "\u001b[0;32m~/.local/share/virtualenvs/BoTorch_Trial-UdUIGeOu/lib/python3.7/site-packages/gpytorch/models/exact_prediction_strategies.py\u001b[0m in \u001b[0;36mexact_predictive_mean\u001b[0;34m(self, test_mean, test_train_covar)\u001b[0m\n\u001b[1;32m    287\u001b[0m         \u001b[0;31m# You **cannot* use addmv here, because test_train_covar may not actually be a non lazy tensor even for an exact\u001b[0m\u001b[0;34m\u001b[0m\u001b[0;34m\u001b[0m\u001b[0;34m\u001b[0m\u001b[0m\n\u001b[1;32m    288\u001b[0m         \u001b[0;31m# GP, and using addmv requires you to delazify test_train_covar, which is obviously a huge no-no!\u001b[0m\u001b[0;34m\u001b[0m\u001b[0;34m\u001b[0m\u001b[0;34m\u001b[0m\u001b[0m\n\u001b[0;32m--> 289\u001b[0;31m         \u001b[0mres\u001b[0m \u001b[0;34m=\u001b[0m \u001b[0;34m(\u001b[0m\u001b[0mtest_train_covar\u001b[0m \u001b[0;34m@\u001b[0m \u001b[0mself\u001b[0m\u001b[0;34m.\u001b[0m\u001b[0mmean_cache\u001b[0m\u001b[0;34m.\u001b[0m\u001b[0munsqueeze\u001b[0m\u001b[0;34m(\u001b[0m\u001b[0;34m-\u001b[0m\u001b[0;36m1\u001b[0m\u001b[0;34m)\u001b[0m\u001b[0;34m)\u001b[0m\u001b[0;34m.\u001b[0m\u001b[0msqueeze\u001b[0m\u001b[0;34m(\u001b[0m\u001b[0;34m-\u001b[0m\u001b[0;36m1\u001b[0m\u001b[0;34m)\u001b[0m\u001b[0;34m\u001b[0m\u001b[0;34m\u001b[0m\u001b[0m\n\u001b[0m\u001b[1;32m    290\u001b[0m         \u001b[0mres\u001b[0m \u001b[0;34m=\u001b[0m \u001b[0mres\u001b[0m \u001b[0;34m+\u001b[0m \u001b[0mtest_mean\u001b[0m\u001b[0;34m\u001b[0m\u001b[0;34m\u001b[0m\u001b[0m\n\u001b[1;32m    291\u001b[0m \u001b[0;34m\u001b[0m\u001b[0m\n",
      "\u001b[0;32m~/.local/share/virtualenvs/BoTorch_Trial-UdUIGeOu/lib/python3.7/site-packages/gpytorch/utils/memoize.py\u001b[0m in \u001b[0;36mg\u001b[0;34m(self, *args, **kwargs)\u001b[0m\n\u001b[1;32m     57\u001b[0m         \u001b[0mkwargs_pkl\u001b[0m \u001b[0;34m=\u001b[0m \u001b[0mpickle\u001b[0m\u001b[0;34m.\u001b[0m\u001b[0mdumps\u001b[0m\u001b[0;34m(\u001b[0m\u001b[0mkwargs\u001b[0m\u001b[0;34m)\u001b[0m\u001b[0;34m\u001b[0m\u001b[0;34m\u001b[0m\u001b[0m\n\u001b[1;32m     58\u001b[0m         \u001b[0;32mif\u001b[0m \u001b[0;32mnot\u001b[0m \u001b[0m_is_in_cache\u001b[0m\u001b[0;34m(\u001b[0m\u001b[0mself\u001b[0m\u001b[0;34m,\u001b[0m \u001b[0mcache_name\u001b[0m\u001b[0;34m,\u001b[0m \u001b[0;34m*\u001b[0m\u001b[0margs\u001b[0m\u001b[0;34m,\u001b[0m \u001b[0mkwargs_pkl\u001b[0m\u001b[0;34m=\u001b[0m\u001b[0mkwargs_pkl\u001b[0m\u001b[0;34m)\u001b[0m\u001b[0;34m:\u001b[0m\u001b[0;34m\u001b[0m\u001b[0;34m\u001b[0m\u001b[0m\n\u001b[0;32m---> 59\u001b[0;31m             \u001b[0;32mreturn\u001b[0m \u001b[0m_add_to_cache\u001b[0m\u001b[0;34m(\u001b[0m\u001b[0mself\u001b[0m\u001b[0;34m,\u001b[0m \u001b[0mcache_name\u001b[0m\u001b[0;34m,\u001b[0m \u001b[0mmethod\u001b[0m\u001b[0;34m(\u001b[0m\u001b[0mself\u001b[0m\u001b[0;34m,\u001b[0m \u001b[0;34m*\u001b[0m\u001b[0margs\u001b[0m\u001b[0;34m,\u001b[0m \u001b[0;34m**\u001b[0m\u001b[0mkwargs\u001b[0m\u001b[0;34m)\u001b[0m\u001b[0;34m,\u001b[0m \u001b[0;34m*\u001b[0m\u001b[0margs\u001b[0m\u001b[0;34m,\u001b[0m \u001b[0mkwargs_pkl\u001b[0m\u001b[0;34m=\u001b[0m\u001b[0mkwargs_pkl\u001b[0m\u001b[0;34m)\u001b[0m\u001b[0;34m\u001b[0m\u001b[0;34m\u001b[0m\u001b[0m\n\u001b[0m\u001b[1;32m     60\u001b[0m         \u001b[0;32mreturn\u001b[0m \u001b[0m_get_from_cache\u001b[0m\u001b[0;34m(\u001b[0m\u001b[0mself\u001b[0m\u001b[0;34m,\u001b[0m \u001b[0mcache_name\u001b[0m\u001b[0;34m,\u001b[0m \u001b[0;34m*\u001b[0m\u001b[0margs\u001b[0m\u001b[0;34m,\u001b[0m \u001b[0mkwargs_pkl\u001b[0m\u001b[0;34m=\u001b[0m\u001b[0mkwargs_pkl\u001b[0m\u001b[0;34m)\u001b[0m\u001b[0;34m\u001b[0m\u001b[0;34m\u001b[0m\u001b[0m\n\u001b[1;32m     61\u001b[0m \u001b[0;34m\u001b[0m\u001b[0m\n",
      "\u001b[0;32m~/.local/share/virtualenvs/BoTorch_Trial-UdUIGeOu/lib/python3.7/site-packages/gpytorch/models/exact_prediction_strategies.py\u001b[0m in \u001b[0;36mmean_cache\u001b[0;34m(self)\u001b[0m\n\u001b[1;32m    236\u001b[0m \u001b[0;34m\u001b[0m\u001b[0m\n\u001b[1;32m    237\u001b[0m         \u001b[0mtrain_labels_offset\u001b[0m \u001b[0;34m=\u001b[0m \u001b[0;34m(\u001b[0m\u001b[0mself\u001b[0m\u001b[0;34m.\u001b[0m\u001b[0mtrain_labels\u001b[0m \u001b[0;34m-\u001b[0m \u001b[0mtrain_mean\u001b[0m\u001b[0;34m)\u001b[0m\u001b[0;34m.\u001b[0m\u001b[0munsqueeze\u001b[0m\u001b[0;34m(\u001b[0m\u001b[0;34m-\u001b[0m\u001b[0;36m1\u001b[0m\u001b[0;34m)\u001b[0m\u001b[0;34m\u001b[0m\u001b[0;34m\u001b[0m\u001b[0m\n\u001b[0;32m--> 238\u001b[0;31m         \u001b[0mmean_cache\u001b[0m \u001b[0;34m=\u001b[0m \u001b[0mtrain_train_covar\u001b[0m\u001b[0;34m.\u001b[0m\u001b[0mevaluate_kernel\u001b[0m\u001b[0;34m(\u001b[0m\u001b[0;34m)\u001b[0m\u001b[0;34m.\u001b[0m\u001b[0minv_matmul\u001b[0m\u001b[0;34m(\u001b[0m\u001b[0mtrain_labels_offset\u001b[0m\u001b[0;34m)\u001b[0m\u001b[0;34m.\u001b[0m\u001b[0msqueeze\u001b[0m\u001b[0;34m(\u001b[0m\u001b[0;34m-\u001b[0m\u001b[0;36m1\u001b[0m\u001b[0;34m)\u001b[0m\u001b[0;34m\u001b[0m\u001b[0;34m\u001b[0m\u001b[0m\n\u001b[0m\u001b[1;32m    239\u001b[0m \u001b[0;34m\u001b[0m\u001b[0m\n\u001b[1;32m    240\u001b[0m         \u001b[0;32mif\u001b[0m \u001b[0msettings\u001b[0m\u001b[0;34m.\u001b[0m\u001b[0mdetach_test_caches\u001b[0m\u001b[0;34m.\u001b[0m\u001b[0mon\u001b[0m\u001b[0;34m(\u001b[0m\u001b[0;34m)\u001b[0m\u001b[0;34m:\u001b[0m\u001b[0;34m\u001b[0m\u001b[0;34m\u001b[0m\u001b[0m\n",
      "\u001b[0;32m~/.local/share/virtualenvs/BoTorch_Trial-UdUIGeOu/lib/python3.7/site-packages/gpytorch/lazy/lazy_tensor.py\u001b[0m in \u001b[0;36minv_matmul\u001b[0;34m(self, right_tensor, left_tensor)\u001b[0m\n\u001b[1;32m   1215\u001b[0m         \u001b[0mfunc\u001b[0m \u001b[0;34m=\u001b[0m \u001b[0mInvMatmul\u001b[0m\u001b[0;34m\u001b[0m\u001b[0;34m\u001b[0m\u001b[0m\n\u001b[1;32m   1216\u001b[0m         \u001b[0;32mif\u001b[0m \u001b[0mleft_tensor\u001b[0m \u001b[0;32mis\u001b[0m \u001b[0;32mNone\u001b[0m\u001b[0;34m:\u001b[0m\u001b[0;34m\u001b[0m\u001b[0;34m\u001b[0m\u001b[0m\n\u001b[0;32m-> 1217\u001b[0;31m             \u001b[0;32mreturn\u001b[0m \u001b[0mfunc\u001b[0m\u001b[0;34m.\u001b[0m\u001b[0mapply\u001b[0m\u001b[0;34m(\u001b[0m\u001b[0mself\u001b[0m\u001b[0;34m.\u001b[0m\u001b[0mrepresentation_tree\u001b[0m\u001b[0;34m(\u001b[0m\u001b[0;34m)\u001b[0m\u001b[0;34m,\u001b[0m \u001b[0;32mFalse\u001b[0m\u001b[0;34m,\u001b[0m \u001b[0mright_tensor\u001b[0m\u001b[0;34m,\u001b[0m \u001b[0;34m*\u001b[0m\u001b[0mself\u001b[0m\u001b[0;34m.\u001b[0m\u001b[0mrepresentation\u001b[0m\u001b[0;34m(\u001b[0m\u001b[0;34m)\u001b[0m\u001b[0;34m)\u001b[0m\u001b[0;34m\u001b[0m\u001b[0;34m\u001b[0m\u001b[0m\n\u001b[0m\u001b[1;32m   1218\u001b[0m         \u001b[0;32melse\u001b[0m\u001b[0;34m:\u001b[0m\u001b[0;34m\u001b[0m\u001b[0;34m\u001b[0m\u001b[0m\n\u001b[1;32m   1219\u001b[0m             return func.apply(\n",
      "\u001b[0;32m~/.local/share/virtualenvs/BoTorch_Trial-UdUIGeOu/lib/python3.7/site-packages/gpytorch/functions/_inv_matmul.py\u001b[0m in \u001b[0;36mforward\u001b[0;34m(ctx, representation_tree, has_left, *args)\u001b[0m\n\u001b[1;32m     51\u001b[0m             \u001b[0mres\u001b[0m \u001b[0;34m=\u001b[0m \u001b[0mleft_tensor\u001b[0m \u001b[0;34m@\u001b[0m \u001b[0mres\u001b[0m\u001b[0;34m\u001b[0m\u001b[0;34m\u001b[0m\u001b[0m\n\u001b[1;32m     52\u001b[0m         \u001b[0;32melse\u001b[0m\u001b[0;34m:\u001b[0m\u001b[0;34m\u001b[0m\u001b[0;34m\u001b[0m\u001b[0m\n\u001b[0;32m---> 53\u001b[0;31m             \u001b[0msolves\u001b[0m \u001b[0;34m=\u001b[0m \u001b[0m_solve\u001b[0m\u001b[0;34m(\u001b[0m\u001b[0mlazy_tsr\u001b[0m\u001b[0;34m,\u001b[0m \u001b[0mright_tensor\u001b[0m\u001b[0;34m)\u001b[0m\u001b[0;34m\u001b[0m\u001b[0;34m\u001b[0m\u001b[0m\n\u001b[0m\u001b[1;32m     54\u001b[0m             \u001b[0mres\u001b[0m \u001b[0;34m=\u001b[0m \u001b[0msolves\u001b[0m\u001b[0;34m\u001b[0m\u001b[0;34m\u001b[0m\u001b[0m\n\u001b[1;32m     55\u001b[0m \u001b[0;34m\u001b[0m\u001b[0m\n",
      "\u001b[0;32m~/.local/share/virtualenvs/BoTorch_Trial-UdUIGeOu/lib/python3.7/site-packages/gpytorch/functions/_inv_matmul.py\u001b[0m in \u001b[0;36m_solve\u001b[0;34m(lazy_tsr, rhs)\u001b[0m\n\u001b[1;32m     15\u001b[0m         \u001b[0;32mreturn\u001b[0m \u001b[0mlazy_tsr\u001b[0m\u001b[0;34m.\u001b[0m\u001b[0minv_matmul\u001b[0m\u001b[0;34m(\u001b[0m\u001b[0mrhs\u001b[0m\u001b[0;34m)\u001b[0m\u001b[0;34m\u001b[0m\u001b[0;34m\u001b[0m\u001b[0m\n\u001b[1;32m     16\u001b[0m     \u001b[0;32mif\u001b[0m \u001b[0msettings\u001b[0m\u001b[0;34m.\u001b[0m\u001b[0mfast_computations\u001b[0m\u001b[0;34m.\u001b[0m\u001b[0msolves\u001b[0m\u001b[0;34m.\u001b[0m\u001b[0moff\u001b[0m\u001b[0;34m(\u001b[0m\u001b[0;34m)\u001b[0m \u001b[0;32mor\u001b[0m \u001b[0mlazy_tsr\u001b[0m\u001b[0;34m.\u001b[0m\u001b[0msize\u001b[0m\u001b[0;34m(\u001b[0m\u001b[0;34m-\u001b[0m\u001b[0;36m1\u001b[0m\u001b[0;34m)\u001b[0m \u001b[0;34m<=\u001b[0m \u001b[0msettings\u001b[0m\u001b[0;34m.\u001b[0m\u001b[0mmax_cholesky_size\u001b[0m\u001b[0;34m.\u001b[0m\u001b[0mvalue\u001b[0m\u001b[0;34m(\u001b[0m\u001b[0;34m)\u001b[0m\u001b[0;34m:\u001b[0m\u001b[0;34m\u001b[0m\u001b[0;34m\u001b[0m\u001b[0m\n\u001b[0;32m---> 17\u001b[0;31m         \u001b[0;32mreturn\u001b[0m \u001b[0mlazy_tsr\u001b[0m\u001b[0;34m.\u001b[0m\u001b[0mcholesky\u001b[0m\u001b[0;34m(\u001b[0m\u001b[0;34m)\u001b[0m\u001b[0;34m.\u001b[0m\u001b[0m_cholesky_solve\u001b[0m\u001b[0;34m(\u001b[0m\u001b[0mrhs\u001b[0m\u001b[0;34m)\u001b[0m\u001b[0;34m\u001b[0m\u001b[0;34m\u001b[0m\u001b[0m\n\u001b[0m\u001b[1;32m     18\u001b[0m     \u001b[0;32melse\u001b[0m\u001b[0;34m:\u001b[0m\u001b[0;34m\u001b[0m\u001b[0;34m\u001b[0m\u001b[0m\n\u001b[1;32m     19\u001b[0m         \u001b[0;32mwith\u001b[0m \u001b[0mtorch\u001b[0m\u001b[0;34m.\u001b[0m\u001b[0mno_grad\u001b[0m\u001b[0;34m(\u001b[0m\u001b[0;34m)\u001b[0m\u001b[0;34m:\u001b[0m\u001b[0;34m\u001b[0m\u001b[0;34m\u001b[0m\u001b[0m\n",
      "\u001b[0;32m~/.local/share/virtualenvs/BoTorch_Trial-UdUIGeOu/lib/python3.7/site-packages/gpytorch/lazy/lazy_tensor.py\u001b[0m in \u001b[0;36mcholesky\u001b[0;34m(self, upper)\u001b[0m\n\u001b[1;32m   1002\u001b[0m             \u001b[0;34m(\u001b[0m\u001b[0mLazyTensor\u001b[0m\u001b[0;34m)\u001b[0m \u001b[0mCholesky\u001b[0m \u001b[0mfactor\u001b[0m \u001b[0;34m(\u001b[0m\u001b[0mtriangular\u001b[0m\u001b[0;34m,\u001b[0m \u001b[0mupper\u001b[0m\u001b[0;34m/\u001b[0m\u001b[0mlower\u001b[0m \u001b[0mdepending\u001b[0m \u001b[0mon\u001b[0m \u001b[0;34m\"upper\"\u001b[0m \u001b[0marg\u001b[0m\u001b[0;34m)\u001b[0m\u001b[0;34m\u001b[0m\u001b[0;34m\u001b[0m\u001b[0m\n\u001b[1;32m   1003\u001b[0m         \"\"\"\n\u001b[0;32m-> 1004\u001b[0;31m         \u001b[0mchol\u001b[0m \u001b[0;34m=\u001b[0m \u001b[0mself\u001b[0m\u001b[0;34m.\u001b[0m\u001b[0m_cholesky\u001b[0m\u001b[0;34m(\u001b[0m\u001b[0mupper\u001b[0m\u001b[0;34m=\u001b[0m\u001b[0;32mFalse\u001b[0m\u001b[0;34m)\u001b[0m\u001b[0;34m\u001b[0m\u001b[0;34m\u001b[0m\u001b[0m\n\u001b[0m\u001b[1;32m   1005\u001b[0m         \u001b[0;32mif\u001b[0m \u001b[0mupper\u001b[0m\u001b[0;34m:\u001b[0m\u001b[0;34m\u001b[0m\u001b[0;34m\u001b[0m\u001b[0m\n\u001b[1;32m   1006\u001b[0m             \u001b[0mchol\u001b[0m \u001b[0;34m=\u001b[0m \u001b[0mchol\u001b[0m\u001b[0;34m.\u001b[0m\u001b[0m_transpose_nonbatch\u001b[0m\u001b[0;34m(\u001b[0m\u001b[0;34m)\u001b[0m\u001b[0;34m\u001b[0m\u001b[0;34m\u001b[0m\u001b[0m\n",
      "\u001b[0;32m~/.local/share/virtualenvs/BoTorch_Trial-UdUIGeOu/lib/python3.7/site-packages/gpytorch/utils/memoize.py\u001b[0m in \u001b[0;36mg\u001b[0;34m(self, *args, **kwargs)\u001b[0m\n\u001b[1;32m     57\u001b[0m         \u001b[0mkwargs_pkl\u001b[0m \u001b[0;34m=\u001b[0m \u001b[0mpickle\u001b[0m\u001b[0;34m.\u001b[0m\u001b[0mdumps\u001b[0m\u001b[0;34m(\u001b[0m\u001b[0mkwargs\u001b[0m\u001b[0;34m)\u001b[0m\u001b[0;34m\u001b[0m\u001b[0;34m\u001b[0m\u001b[0m\n\u001b[1;32m     58\u001b[0m         \u001b[0;32mif\u001b[0m \u001b[0;32mnot\u001b[0m \u001b[0m_is_in_cache\u001b[0m\u001b[0;34m(\u001b[0m\u001b[0mself\u001b[0m\u001b[0;34m,\u001b[0m \u001b[0mcache_name\u001b[0m\u001b[0;34m,\u001b[0m \u001b[0;34m*\u001b[0m\u001b[0margs\u001b[0m\u001b[0;34m,\u001b[0m \u001b[0mkwargs_pkl\u001b[0m\u001b[0;34m=\u001b[0m\u001b[0mkwargs_pkl\u001b[0m\u001b[0;34m)\u001b[0m\u001b[0;34m:\u001b[0m\u001b[0;34m\u001b[0m\u001b[0;34m\u001b[0m\u001b[0m\n\u001b[0;32m---> 59\u001b[0;31m             \u001b[0;32mreturn\u001b[0m \u001b[0m_add_to_cache\u001b[0m\u001b[0;34m(\u001b[0m\u001b[0mself\u001b[0m\u001b[0;34m,\u001b[0m \u001b[0mcache_name\u001b[0m\u001b[0;34m,\u001b[0m \u001b[0mmethod\u001b[0m\u001b[0;34m(\u001b[0m\u001b[0mself\u001b[0m\u001b[0;34m,\u001b[0m \u001b[0;34m*\u001b[0m\u001b[0margs\u001b[0m\u001b[0;34m,\u001b[0m \u001b[0;34m**\u001b[0m\u001b[0mkwargs\u001b[0m\u001b[0;34m)\u001b[0m\u001b[0;34m,\u001b[0m \u001b[0;34m*\u001b[0m\u001b[0margs\u001b[0m\u001b[0;34m,\u001b[0m \u001b[0mkwargs_pkl\u001b[0m\u001b[0;34m=\u001b[0m\u001b[0mkwargs_pkl\u001b[0m\u001b[0;34m)\u001b[0m\u001b[0;34m\u001b[0m\u001b[0;34m\u001b[0m\u001b[0m\n\u001b[0m\u001b[1;32m     60\u001b[0m         \u001b[0;32mreturn\u001b[0m \u001b[0m_get_from_cache\u001b[0m\u001b[0;34m(\u001b[0m\u001b[0mself\u001b[0m\u001b[0;34m,\u001b[0m \u001b[0mcache_name\u001b[0m\u001b[0;34m,\u001b[0m \u001b[0;34m*\u001b[0m\u001b[0margs\u001b[0m\u001b[0;34m,\u001b[0m \u001b[0mkwargs_pkl\u001b[0m\u001b[0;34m=\u001b[0m\u001b[0mkwargs_pkl\u001b[0m\u001b[0;34m)\u001b[0m\u001b[0;34m\u001b[0m\u001b[0;34m\u001b[0m\u001b[0m\n\u001b[1;32m     61\u001b[0m \u001b[0;34m\u001b[0m\u001b[0m\n",
      "\u001b[0;32m~/.local/share/virtualenvs/BoTorch_Trial-UdUIGeOu/lib/python3.7/site-packages/gpytorch/lazy/lazy_tensor.py\u001b[0m in \u001b[0;36m_cholesky\u001b[0;34m(self, upper)\u001b[0m\n\u001b[1;32m    433\u001b[0m \u001b[0;34m\u001b[0m\u001b[0m\n\u001b[1;32m    434\u001b[0m         \u001b[0;31m# contiguous call is necessary here\u001b[0m\u001b[0;34m\u001b[0m\u001b[0;34m\u001b[0m\u001b[0;34m\u001b[0m\u001b[0m\n\u001b[0;32m--> 435\u001b[0;31m         \u001b[0mcholesky\u001b[0m \u001b[0;34m=\u001b[0m \u001b[0mpsd_safe_cholesky\u001b[0m\u001b[0;34m(\u001b[0m\u001b[0mevaluated_mat\u001b[0m\u001b[0;34m,\u001b[0m \u001b[0mupper\u001b[0m\u001b[0;34m=\u001b[0m\u001b[0mupper\u001b[0m\u001b[0;34m)\u001b[0m\u001b[0;34m.\u001b[0m\u001b[0mcontiguous\u001b[0m\u001b[0;34m(\u001b[0m\u001b[0;34m)\u001b[0m\u001b[0;34m\u001b[0m\u001b[0;34m\u001b[0m\u001b[0m\n\u001b[0m\u001b[1;32m    436\u001b[0m         \u001b[0;32mreturn\u001b[0m \u001b[0mTriangularLazyTensor\u001b[0m\u001b[0;34m(\u001b[0m\u001b[0mcholesky\u001b[0m\u001b[0;34m,\u001b[0m \u001b[0mupper\u001b[0m\u001b[0;34m=\u001b[0m\u001b[0mupper\u001b[0m\u001b[0;34m)\u001b[0m\u001b[0;34m\u001b[0m\u001b[0;34m\u001b[0m\u001b[0m\n\u001b[1;32m    437\u001b[0m \u001b[0;34m\u001b[0m\u001b[0m\n",
      "\u001b[0;32m~/.local/share/virtualenvs/BoTorch_Trial-UdUIGeOu/lib/python3.7/site-packages/gpytorch/utils/cholesky.py\u001b[0m in \u001b[0;36mpsd_safe_cholesky\u001b[0;34m(A, upper, out, jitter, max_tries)\u001b[0m\n\u001b[1;32m     63\u001b[0m             \u001b[0mNumber\u001b[0m \u001b[0mof\u001b[0m \u001b[0mattempts\u001b[0m \u001b[0;34m(\u001b[0m\u001b[0;32mwith\u001b[0m \u001b[0msuccessively\u001b[0m \u001b[0mincreasing\u001b[0m \u001b[0mjitter\u001b[0m\u001b[0;34m)\u001b[0m \u001b[0mto\u001b[0m \u001b[0mmake\u001b[0m \u001b[0mbefore\u001b[0m \u001b[0mraising\u001b[0m \u001b[0man\u001b[0m \u001b[0merror\u001b[0m\u001b[0;34m.\u001b[0m\u001b[0;34m\u001b[0m\u001b[0;34m\u001b[0m\u001b[0m\n\u001b[1;32m     64\u001b[0m     \"\"\"\n\u001b[0;32m---> 65\u001b[0;31m     \u001b[0mL\u001b[0m \u001b[0;34m=\u001b[0m \u001b[0m_psd_safe_cholesky\u001b[0m\u001b[0;34m(\u001b[0m\u001b[0mA\u001b[0m\u001b[0;34m,\u001b[0m \u001b[0mout\u001b[0m\u001b[0;34m=\u001b[0m\u001b[0mout\u001b[0m\u001b[0;34m,\u001b[0m \u001b[0mjitter\u001b[0m\u001b[0;34m=\u001b[0m\u001b[0mjitter\u001b[0m\u001b[0;34m,\u001b[0m \u001b[0mmax_tries\u001b[0m\u001b[0;34m=\u001b[0m\u001b[0mmax_tries\u001b[0m\u001b[0;34m)\u001b[0m\u001b[0;34m\u001b[0m\u001b[0;34m\u001b[0m\u001b[0m\n\u001b[0m\u001b[1;32m     66\u001b[0m     \u001b[0;32mif\u001b[0m \u001b[0mupper\u001b[0m\u001b[0;34m:\u001b[0m\u001b[0;34m\u001b[0m\u001b[0;34m\u001b[0m\u001b[0m\n\u001b[1;32m     67\u001b[0m         \u001b[0;32mif\u001b[0m \u001b[0mout\u001b[0m \u001b[0;32mis\u001b[0m \u001b[0;32mnot\u001b[0m \u001b[0;32mNone\u001b[0m\u001b[0;34m:\u001b[0m\u001b[0;34m\u001b[0m\u001b[0;34m\u001b[0m\u001b[0m\n",
      "\u001b[0;32m~/.local/share/virtualenvs/BoTorch_Trial-UdUIGeOu/lib/python3.7/site-packages/gpytorch/utils/cholesky.py\u001b[0m in \u001b[0;36m_psd_safe_cholesky\u001b[0;34m(A, out, jitter, max_tries)\u001b[0m\n\u001b[1;32m     45\u001b[0m         \u001b[0;32mif\u001b[0m \u001b[0;32mnot\u001b[0m \u001b[0mtorch\u001b[0m\u001b[0;34m.\u001b[0m\u001b[0many\u001b[0m\u001b[0;34m(\u001b[0m\u001b[0minfo\u001b[0m\u001b[0;34m)\u001b[0m\u001b[0;34m:\u001b[0m\u001b[0;34m\u001b[0m\u001b[0;34m\u001b[0m\u001b[0m\n\u001b[1;32m     46\u001b[0m             \u001b[0;32mreturn\u001b[0m \u001b[0mL\u001b[0m\u001b[0;34m\u001b[0m\u001b[0;34m\u001b[0m\u001b[0m\n\u001b[0;32m---> 47\u001b[0;31m     \u001b[0;32mraise\u001b[0m \u001b[0mNotPSDError\u001b[0m\u001b[0;34m(\u001b[0m\u001b[0;34mf\"Matrix not positive definite after repeatedly adding jitter up to {jitter_new:.1e}.\"\u001b[0m\u001b[0;34m)\u001b[0m\u001b[0;34m\u001b[0m\u001b[0;34m\u001b[0m\u001b[0m\n\u001b[0m\u001b[1;32m     48\u001b[0m \u001b[0;34m\u001b[0m\u001b[0m\n\u001b[1;32m     49\u001b[0m \u001b[0;34m\u001b[0m\u001b[0m\n",
      "\u001b[0;31mNotPSDError\u001b[0m: Matrix not positive definite after repeatedly adding jitter up to 1.0e-06."
     ]
    }
   ],
   "source": [
    "# Tensorboard\n",
    "t_delta = datetime.timedelta(hours=9)\n",
    "JST = datetime.timezone(t_delta, 'JST')\n",
    "now = datetime.datetime.now(JST)\n",
    "log_dir = f\"./runs/{now.strftime('%Y%m%d%H%M%S')}\"\n",
    "gp_writer = SummaryWriter(log_dir=os.path.join(log_dir, \"gp\"))\n",
    "rand_writer = SummaryWriter(log_dir=os.path.join(log_dir, \"rand\"))\n",
    "\n",
    "# 範囲の保持やランダムサンプリングを担当するオブジェクト\n",
    "parameters = Parameters(tkwargs)\n",
    "# メトリクス値の計算や最大値の保持を担当するオブジェクト\n",
    "gp_metrics = Metrics()\n",
    "rand_metrics = Metrics()\n",
    "\n",
    "# 初期サンプルの作成\n",
    "init_params = parameters.random_sample(2)\n",
    "# メトリクス（タスクの数）だけ縦に積み、タスク番号を最終列に追加\n",
    "n_metrics = metrics.n_metrics\n",
    "train_params = torch.cat([torch.cat((init_params, torch.tensor([[i] for _ in range(init_params.shape[0])], **tkwargs)), dim=1) for i in range(n_metrics)])\n",
    "print(f\"initial params: \\n{train_params}\")\n",
    "\n",
    "# 初期学習データ\n",
    "gp_train_params, gp_train_metrics = train_params, gp_metrics(train_params)\n",
    "rand_train_params, rand_train_metrics = train_params, rand_metrics(train_params)\n",
    "\n",
    "# tensorboardへ記録\n",
    "for metric_name in gp_metrics.metrics.keys():\n",
    "    gp_writer.add_scalar(f\"{metric_name}\", gp_metrics.metrics[metric_name].optimal_metric, 0)\n",
    "    rand_writer.add_scalar(f\"{metric_name}\", rand_metrics.metrics[metric_name].optimal_metric, 0)\n",
    "\n",
    "for iter in range(n_iter):\n",
    "\n",
    "    torch.cuda.empty_cache()\n",
    "    gp_t0 = time.time()\n",
    "    # モデルの更新\n",
    "    gp = MultiTaskGP(gp_train_params, gp_train_metrics, task_feature=-1)\n",
    "    gp_mll = ExactMarginalLogLikelihood(gp.likelihood, gp)\n",
    "    fit_gpytorch_model(gp_mll, options={\"maxiter\": 3000, \"lr\": 0.01, \"disp\": False})\n",
    "    # 獲得関数の計算\n",
    "    qUCB = qUpperConfidenceBound(gp, beta=0.1, objective=metrics.objective)\n",
    "    # 獲得関数の最適化\n",
    "    gp_candidates, _ = optimize_acqf(\n",
    "        acq_function=qUCB,\n",
    "        bounds=parameters.bounds,\n",
    "        q=n_sample_per_iter,\n",
    "        num_restarts=10,\n",
    "        raw_samples=128,  # used for intialization heuristic\n",
    "        options={\"batch_limit\": 1, \"maxiter\": 200, \"init_batch_limit\": 1},\n",
    "    )\n",
    "    gp_t1 = time.time()\n",
    "    # 得られた探索点にタスク番号を追加\n",
    "    gp_candidates = torch.cat([torch.cat((gp_candidates, torch.tensor([[i] for _ in range(gp_candidates.shape[0])], **tkwargs)), dim=1) for i in range(n_metrics)])\n",
    "    gp_candidates_metrics = gp_metrics(gp_candidates)\n",
    "    # 学習データの更新\n",
    "    gp_train_params = torch.cat((gp_train_params, gp_candidates), dim=0)\n",
    "    gp_train_metrics = torch.cat((gp_train_metrics, gp_candidates_metrics), dim=0)\n",
    "\n",
    "    rand_t0 = time.time()\n",
    "    rand_candidates = parameters.random_sample(q=n_sample_per_iter)\n",
    "    # 得られた探索点にタスク番号を追加\n",
    "    rand_candidates = torch.cat([torch.cat((rand_candidates, torch.tensor([[i] for _ in range(rand_candidates.shape[0])], **tkwargs)), dim=1) for i in range(n_metrics)])\n",
    "    rand_candidates_metrics = rand_metrics(rand_candidates)\n",
    "    # 学習データの更新(学習しないけど...)\n",
    "    rand_train_params = torch.cat((rand_train_params, rand_candidates), dim=0)\n",
    "    rand_train_metrics = torch.cat((rand_train_metrics, rand_candidates_metrics), dim=0)\n",
    "    rand_t1 = time.time()\n",
    "\n",
    "    # tensorboardへ記録\n",
    "    for metric_name in gp_metrics.metrics.keys():\n",
    "        gp_writer.add_scalar(f\"{metric_name}\", gp_metrics.metrics[metric_name].optimal_metric, iter+1)\n",
    "        rand_writer.add_scalar(f\"{metric_name}\", rand_metrics.metrics[metric_name].optimal_metric, iter+1)\n",
    "\n",
    "        \n",
    "\n",
    "    print(f\"gp_time: {gp_t1 - gp_t0}\")\n",
    "    print(f\"rand_time: {rand_t1 - rand_t0}\")"
   ]
  },
  {
   "cell_type": "markdown",
   "metadata": {},
   "source": [
    "## 気づき\n",
    "- 一応GPのほうがよりメトリクスを最小化できている\n",
    "- マルチタスクのときは行列サイズが大きくなってしまうため、行列の正定値性に関して問題が起こりやすそう\n",
    "- このことから、SingleTaskGPリストのほうが良さそう"
   ]
  },
  {
   "cell_type": "code",
   "execution_count": null,
   "metadata": {},
   "outputs": [],
   "source": []
  }
 ],
 "metadata": {
  "kernelspec": {
   "display_name": "Python 3.7.13 ('BoTorch_Trial-UdUIGeOu')",
   "language": "python",
   "name": "python3"
  },
  "language_info": {
   "codemirror_mode": {
    "name": "ipython",
    "version": 3
   },
   "file_extension": ".py",
   "mimetype": "text/x-python",
   "name": "python",
   "nbconvert_exporter": "python",
   "pygments_lexer": "ipython3",
   "version": "3.7.13"
  },
  "orig_nbformat": 4,
  "vscode": {
   "interpreter": {
    "hash": "cc5b7d280d2e0a225422498cd420b32cc6d1585cd8720de6e6a93b320c1eeeeb"
   }
  }
 },
 "nbformat": 4,
 "nbformat_minor": 2
}
